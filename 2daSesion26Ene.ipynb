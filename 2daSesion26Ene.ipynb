{
 "cells": [
  {
   "cell_type": "markdown",
   "id": "c9f6ecef-a8c2-47c5-91f0-d3ad222c7bd2",
   "metadata": {},
   "source": [
    "# ESTADISTICA APLICADA"
   ]
  },
  {
   "cell_type": "markdown",
   "id": "54933801-522c-45fb-81c8-78de2fa66426",
   "metadata": {},
   "source": [
    "## CLASE 26 DE ENERO 2023 GRUPO 043"
   ]
  },
  {
   "cell_type": "markdown",
   "id": "b6d60e93-bdb4-477a-ab67-73c6a19ec69d",
   "metadata": {},
   "source": [
    "## SESIÓN 2\n",
    "## ANDRIK DANIEL VAZQUEZ REGALADO"
   ]
  },
  {
   "cell_type": "code",
   "execution_count": 59,
   "id": "6abb72ae-be2f-4c39-886a-0d79ce49e60b",
   "metadata": {},
   "outputs": [
    {
     "name": "stdout",
     "output_type": "stream",
     "text": [
      "Requirement already satisfied: yfinance in c:\\users\\becario\\anaconda3\\lib\\site-packages (0.2.9)\n",
      "Requirement already satisfied: beautifulsoup4>=4.11.1 in c:\\users\\becario\\anaconda3\\lib\\site-packages (from yfinance) (4.11.1)\n",
      "Requirement already satisfied: cryptography>=3.3.2 in c:\\users\\becario\\anaconda3\\lib\\site-packages (from yfinance) (37.0.1)\n",
      "Requirement already satisfied: lxml>=4.9.1 in c:\\users\\becario\\anaconda3\\lib\\site-packages (from yfinance) (4.9.1)\n",
      "Requirement already satisfied: numpy>=1.16.5 in c:\\users\\becario\\anaconda3\\lib\\site-packages (from yfinance) (1.21.5)\n",
      "Requirement already satisfied: pytz>=2022.5 in c:\\users\\becario\\anaconda3\\lib\\site-packages (from yfinance) (2022.7.1)\n",
      "Requirement already satisfied: requests>=2.26 in c:\\users\\becario\\anaconda3\\lib\\site-packages (from yfinance) (2.28.1)\n",
      "Requirement already satisfied: multitasking>=0.0.7 in c:\\users\\becario\\anaconda3\\lib\\site-packages (from yfinance) (0.0.11)\n",
      "Requirement already satisfied: pandas>=1.3.0 in c:\\users\\becario\\anaconda3\\lib\\site-packages (from yfinance) (1.4.4)\n",
      "Requirement already satisfied: html5lib>=1.1 in c:\\users\\becario\\anaconda3\\lib\\site-packages (from yfinance) (1.1)\n",
      "Requirement already satisfied: appdirs>=1.4.4 in c:\\users\\becario\\anaconda3\\lib\\site-packages (from yfinance) (1.4.4)\n",
      "Requirement already satisfied: frozendict>=2.3.4 in c:\\users\\becario\\anaconda3\\lib\\site-packages (from yfinance) (2.3.4)\n",
      "Requirement already satisfied: soupsieve>1.2 in c:\\users\\becario\\anaconda3\\lib\\site-packages (from beautifulsoup4>=4.11.1->yfinance) (2.3.1)\n",
      "Requirement already satisfied: cffi>=1.12 in c:\\users\\becario\\anaconda3\\lib\\site-packages (from cryptography>=3.3.2->yfinance) (1.15.1)\n",
      "Requirement already satisfied: six>=1.9 in c:\\users\\becario\\anaconda3\\lib\\site-packages (from html5lib>=1.1->yfinance) (1.16.0)\n",
      "Requirement already satisfied: webencodings in c:\\users\\becario\\anaconda3\\lib\\site-packages (from html5lib>=1.1->yfinance) (0.5.1)\n",
      "Requirement already satisfied: python-dateutil>=2.8.1 in c:\\users\\becario\\anaconda3\\lib\\site-packages (from pandas>=1.3.0->yfinance) (2.8.2)\n",
      "Requirement already satisfied: charset-normalizer<3,>=2 in c:\\users\\becario\\anaconda3\\lib\\site-packages (from requests>=2.26->yfinance) (2.0.4)\n",
      "Requirement already satisfied: idna<4,>=2.5 in c:\\users\\becario\\anaconda3\\lib\\site-packages (from requests>=2.26->yfinance) (3.3)\n",
      "Requirement already satisfied: urllib3<1.27,>=1.21.1 in c:\\users\\becario\\anaconda3\\lib\\site-packages (from requests>=2.26->yfinance) (1.26.11)\n",
      "Requirement already satisfied: certifi>=2017.4.17 in c:\\users\\becario\\anaconda3\\lib\\site-packages (from requests>=2.26->yfinance) (2022.9.14)\n",
      "Requirement already satisfied: pycparser in c:\\users\\becario\\anaconda3\\lib\\site-packages (from cffi>=1.12->cryptography>=3.3.2->yfinance) (2.21)\n"
     ]
    }
   ],
   "source": [
    "!pip install yfinance"
   ]
  },
  {
   "cell_type": "code",
   "execution_count": 60,
   "id": "f228b056-ebbb-469f-bb89-d9b8540c158f",
   "metadata": {},
   "outputs": [],
   "source": [
    "import yfinance as yf"
   ]
  },
  {
   "cell_type": "code",
   "execution_count": 2,
   "id": "1d6280fa-1000-4670-a7c6-fcb204eb312b",
   "metadata": {},
   "outputs": [],
   "source": [
    "import numpy as np"
   ]
  },
  {
   "cell_type": "code",
   "execution_count": 3,
   "id": "09c316bb-d216-446c-aa73-d352986877f4",
   "metadata": {},
   "outputs": [],
   "source": [
    "edades = [12, 18, 25, 32, 40]"
   ]
  },
  {
   "cell_type": "code",
   "execution_count": 4,
   "id": "0b4cc6f9-5ff5-45b9-9300-67fcc66ad817",
   "metadata": {},
   "outputs": [
    {
     "data": {
      "text/plain": [
       "list"
      ]
     },
     "execution_count": 4,
     "metadata": {},
     "output_type": "execute_result"
    }
   ],
   "source": [
    "type(edades)"
   ]
  },
  {
   "cell_type": "code",
   "execution_count": 5,
   "id": "0b818069-fc25-4b2c-8e80-9bc33752b794",
   "metadata": {},
   "outputs": [
    {
     "data": {
      "text/plain": [
       "array([12, 18, 25, 32, 40])"
      ]
     },
     "execution_count": 5,
     "metadata": {},
     "output_type": "execute_result"
    }
   ],
   "source": [
    "np.array(edades)"
   ]
  },
  {
   "cell_type": "code",
   "execution_count": 6,
   "id": "61c2a3b5-edb4-41c0-8adc-ad419a14afd3",
   "metadata": {},
   "outputs": [],
   "source": [
    "edades=np.array(edades)"
   ]
  },
  {
   "cell_type": "code",
   "execution_count": 7,
   "id": "6c888e8a-0118-4663-9539-b95a718708ea",
   "metadata": {},
   "outputs": [
    {
     "data": {
      "text/plain": [
       "numpy.ndarray"
      ]
     },
     "execution_count": 7,
     "metadata": {},
     "output_type": "execute_result"
    }
   ],
   "source": [
    "type(edades)"
   ]
  },
  {
   "cell_type": "code",
   "execution_count": 8,
   "id": "2814875a-8aa3-4ead-8046-91ce84651438",
   "metadata": {},
   "outputs": [
    {
     "data": {
      "text/plain": [
       "25.4"
      ]
     },
     "execution_count": 8,
     "metadata": {},
     "output_type": "execute_result"
    }
   ],
   "source": [
    "np.mean(edades) #Calcula el promedio"
   ]
  },
  {
   "cell_type": "code",
   "execution_count": 9,
   "id": "595193f4-d4f7-4921-b205-49c3258f4e78",
   "metadata": {},
   "outputs": [
    {
     "data": {
      "text/plain": [
       "6912000"
      ]
     },
     "execution_count": 9,
     "metadata": {},
     "output_type": "execute_result"
    }
   ],
   "source": [
    "np.prod(edades) #multiplica todas las edades"
   ]
  },
  {
   "cell_type": "code",
   "execution_count": 11,
   "id": "94ffda7d-e5af-4bbc-be2e-b1f9fdc8d6ce",
   "metadata": {},
   "outputs": [
    {
     "data": {
      "text/plain": [
       "98.24000000000001"
      ]
     },
     "execution_count": 11,
     "metadata": {},
     "output_type": "execute_result"
    }
   ],
   "source": [
    "np.var(edades) #Se calcula la varianza poblacional"
   ]
  },
  {
   "cell_type": "code",
   "execution_count": 17,
   "id": "7cb2b03e-af39-4b72-9462-119a579e02a6",
   "metadata": {},
   "outputs": [
    {
     "data": {
      "text/plain": [
       "122.80000000000001"
      ]
     },
     "execution_count": 17,
     "metadata": {},
     "output_type": "execute_result"
    }
   ],
   "source": [
    "np.var(edades,ddof=1) #Varianza muestral"
   ]
  },
  {
   "cell_type": "code",
   "execution_count": 18,
   "id": "ce7b581f-e40e-45d4-8c1c-ea6786718eb6",
   "metadata": {},
   "outputs": [
    {
     "data": {
      "text/plain": [
       "9.911609354691095"
      ]
     },
     "execution_count": 18,
     "metadata": {},
     "output_type": "execute_result"
    }
   ],
   "source": [
    "np.std(edades) #Desv estandar poblacional"
   ]
  },
  {
   "cell_type": "code",
   "execution_count": 19,
   "id": "0aab280c-2c92-4bfd-a369-313f3a3e78d1",
   "metadata": {},
   "outputs": [
    {
     "data": {
      "text/plain": [
       "11.081516141756055"
      ]
     },
     "execution_count": 19,
     "metadata": {},
     "output_type": "execute_result"
    }
   ],
   "source": [
    "np.std(edades, ddof=1) #Desv estandar muestral"
   ]
  },
  {
   "cell_type": "code",
   "execution_count": 20,
   "id": "c6d56148-1e7a-47bd-a285-0acf87685f45",
   "metadata": {},
   "outputs": [
    {
     "data": {
      "text/plain": [
       "array([0, 1, 2, 3, 4, 5, 6, 7, 8])"
      ]
     },
     "execution_count": 20,
     "metadata": {},
     "output_type": "execute_result"
    }
   ],
   "source": [
    "np.arange(9) #Genera un vector"
   ]
  },
  {
   "cell_type": "code",
   "execution_count": 22,
   "id": "f5c31357-7e14-415e-8ef8-bcca9237e4ee",
   "metadata": {},
   "outputs": [
    {
     "data": {
      "text/plain": [
       "array([1, 2, 3, 4, 5, 6, 7, 8])"
      ]
     },
     "execution_count": 22,
     "metadata": {},
     "output_type": "execute_result"
    }
   ],
   "source": [
    "np.arange(1,9) #Inicio y finalizacion del vector"
   ]
  },
  {
   "cell_type": "code",
   "execution_count": 24,
   "id": "f5cd0d09-6322-495e-b0b1-98bf93a4d239",
   "metadata": {},
   "outputs": [
    {
     "data": {
      "text/plain": [
       "array([ 1, 11, 21, 31, 41, 51, 61, 71, 81, 91])"
      ]
     },
     "execution_count": 24,
     "metadata": {},
     "output_type": "execute_result"
    }
   ],
   "source": [
    "np.arange(1,100,10) #un vector con salto"
   ]
  },
  {
   "cell_type": "code",
   "execution_count": 25,
   "id": "55757bfc-5366-4251-b005-c2ad928bb7f7",
   "metadata": {},
   "outputs": [
    {
     "data": {
      "text/plain": [
       "array([0., 0., 0., 0., 0., 0., 0., 0., 0., 0.])"
      ]
     },
     "execution_count": 25,
     "metadata": {},
     "output_type": "execute_result"
    }
   ],
   "source": [
    "np.zeros(10)"
   ]
  },
  {
   "cell_type": "code",
   "execution_count": 26,
   "id": "dbc4dc59-9fc4-4ac4-9123-152e3a77d1a8",
   "metadata": {},
   "outputs": [
    {
     "data": {
      "text/plain": [
       "array([1., 1., 1.])"
      ]
     },
     "execution_count": 26,
     "metadata": {},
     "output_type": "execute_result"
    }
   ],
   "source": [
    "np.ones(3)"
   ]
  },
  {
   "cell_type": "code",
   "execution_count": 27,
   "id": "f68ca173-665c-4739-b604-2bebed569ba3",
   "metadata": {},
   "outputs": [
    {
     "data": {
      "text/plain": [
       "array([9, 9, 9, 9, 9, 9])"
      ]
     },
     "execution_count": 27,
     "metadata": {},
     "output_type": "execute_result"
    }
   ],
   "source": [
    "np.full(6,9)"
   ]
  },
  {
   "cell_type": "code",
   "execution_count": 33,
   "id": "b64eb688-cb58-4406-8ae9-096adc6df731",
   "metadata": {},
   "outputs": [
    {
     "data": {
      "text/plain": [
       "array([ 8, 21, 12,  5, 23,  0,  7, 11, 21, 22])"
      ]
     },
     "execution_count": 33,
     "metadata": {},
     "output_type": "execute_result"
    }
   ],
   "source": [
    "np.random.seed(15)\n",
    "np.random.randint(0,25,10) #numero aleatorios enteros, primero el rango y despues la cantidad"
   ]
  },
  {
   "cell_type": "code",
   "execution_count": 39,
   "id": "ba1bb17d-70a1-4ac5-b8ae-942cc7d7d250",
   "metadata": {},
   "outputs": [],
   "source": [
    "np.random.seed(15)\n",
    "aleatorios = np.random.randint(0,25,10)"
   ]
  },
  {
   "cell_type": "code",
   "execution_count": 40,
   "id": "3b7e0206-8c34-4a73-8a89-aa2ff1e032cf",
   "metadata": {},
   "outputs": [
    {
     "data": {
      "text/plain": [
       "array([ 8, 21, 12,  5, 23,  0,  7, 11, 21, 22])"
      ]
     },
     "execution_count": 40,
     "metadata": {},
     "output_type": "execute_result"
    }
   ],
   "source": [
    "aleatorios"
   ]
  },
  {
   "cell_type": "code",
   "execution_count": 41,
   "id": "e1206caa-598f-445a-9835-8c4f37608074",
   "metadata": {},
   "outputs": [],
   "source": [
    "aleatorios = np.sort(aleatorios)"
   ]
  },
  {
   "cell_type": "code",
   "execution_count": 42,
   "id": "341caea5-0757-4ae1-958b-cc5e937f9138",
   "metadata": {},
   "outputs": [
    {
     "data": {
      "text/plain": [
       "array([ 0,  5,  7,  8, 11, 12, 21, 21, 22, 23])"
      ]
     },
     "execution_count": 42,
     "metadata": {},
     "output_type": "execute_result"
    }
   ],
   "source": [
    "aleatorios"
   ]
  },
  {
   "cell_type": "code",
   "execution_count": 43,
   "id": "af79383f-4510-4f9a-a520-4105034fbff3",
   "metadata": {},
   "outputs": [
    {
     "data": {
      "text/plain": [
       "8"
      ]
     },
     "execution_count": 43,
     "metadata": {},
     "output_type": "execute_result"
    }
   ],
   "source": [
    "aleatorios[3]"
   ]
  },
  {
   "cell_type": "code",
   "execution_count": 44,
   "id": "a2a9b44c-fd7e-4c41-bce9-8acf30258745",
   "metadata": {},
   "outputs": [
    {
     "data": {
      "text/plain": [
       "array([ 8, 12])"
      ]
     },
     "execution_count": 44,
     "metadata": {},
     "output_type": "execute_result"
    }
   ],
   "source": [
    "aleatorios[[3,5]]"
   ]
  },
  {
   "cell_type": "code",
   "execution_count": 45,
   "id": "6bd5d4c6-4a81-4c56-9ff7-ee175b2ee07e",
   "metadata": {},
   "outputs": [
    {
     "data": {
      "text/plain": [
       "array([False, False,  True,  True,  True,  True,  True,  True,  True,\n",
       "        True])"
      ]
     },
     "execution_count": 45,
     "metadata": {},
     "output_type": "execute_result"
    }
   ],
   "source": [
    "aleatorios>5"
   ]
  },
  {
   "cell_type": "code",
   "execution_count": 46,
   "id": "e1f0757d-32d3-4eaf-a9ec-dc8e90351d69",
   "metadata": {},
   "outputs": [
    {
     "data": {
      "text/plain": [
       "array([ 7,  8, 11, 12, 21, 21, 22, 23])"
      ]
     },
     "execution_count": 46,
     "metadata": {},
     "output_type": "execute_result"
    }
   ],
   "source": [
    "aleatorios[aleatorios>5]"
   ]
  },
  {
   "cell_type": "markdown",
   "id": "b91ca160-c131-40eb-8ae3-1db2764a9675",
   "metadata": {},
   "source": [
    "## Metodos - Si ya creaste el objeto y llamaste libreria"
   ]
  },
  {
   "cell_type": "code",
   "execution_count": 47,
   "id": "63e69b54-2cc0-4424-bef8-d665b3f8a9cf",
   "metadata": {},
   "outputs": [],
   "source": [
    "numeros=[1.23, 2.45578, 5.6888785]\n",
    "numeros= np.array(numeros)"
   ]
  },
  {
   "cell_type": "markdown",
   "id": "ab543318-0d3e-4b15-a0ee-98f1a80ee8ce",
   "metadata": {},
   "source": [
    "# funcion"
   ]
  },
  {
   "cell_type": "code",
   "execution_count": 48,
   "id": "5714dd0b-ada6-4e75-8b96-c629d715c465",
   "metadata": {},
   "outputs": [
    {
     "data": {
      "text/plain": [
       "3.1248861666666667"
      ]
     },
     "execution_count": 48,
     "metadata": {},
     "output_type": "execute_result"
    }
   ],
   "source": [
    "np.mean(numeros)"
   ]
  },
  {
   "cell_type": "markdown",
   "id": "9bd48117-8915-4189-bc21-1e094b2c1b06",
   "metadata": {},
   "source": [
    "# metodo"
   ]
  },
  {
   "cell_type": "code",
   "execution_count": 49,
   "id": "1eb59c23-91f2-4b2a-98e7-1d2a4b00fcca",
   "metadata": {},
   "outputs": [
    {
     "data": {
      "text/plain": [
       "3.1248861666666667"
      ]
     },
     "execution_count": 49,
     "metadata": {},
     "output_type": "execute_result"
    }
   ],
   "source": [
    "numeros.mean()"
   ]
  },
  {
   "cell_type": "code",
   "execution_count": 53,
   "id": "9e0bb882-7885-4913-8540-8c4124843194",
   "metadata": {},
   "outputs": [
    {
     "data": {
      "text/plain": [
       "3.12"
      ]
     },
     "execution_count": 53,
     "metadata": {},
     "output_type": "execute_result"
    }
   ],
   "source": [
    "round(np.mean(np.array(numeros)),2) #funcion"
   ]
  },
  {
   "cell_type": "code",
   "execution_count": 54,
   "id": "5a568976-8c3e-4283-ab00-4993f5c4a567",
   "metadata": {},
   "outputs": [
    {
     "data": {
      "text/plain": [
       "3.12"
      ]
     },
     "execution_count": 54,
     "metadata": {},
     "output_type": "execute_result"
    }
   ],
   "source": [
    "np.array(numeros).mean().round(2) #metodo"
   ]
  }
 ],
 "metadata": {
  "kernelspec": {
   "display_name": "Python 3 (ipykernel)",
   "language": "python",
   "name": "python3"
  },
  "language_info": {
   "codemirror_mode": {
    "name": "ipython",
    "version": 3
   },
   "file_extension": ".py",
   "mimetype": "text/x-python",
   "name": "python",
   "nbconvert_exporter": "python",
   "pygments_lexer": "ipython3",
   "version": "3.9.13"
  }
 },
 "nbformat": 4,
 "nbformat_minor": 5
}
