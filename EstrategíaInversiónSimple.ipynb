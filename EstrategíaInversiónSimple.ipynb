{
 "cells": [
  {
   "cell_type": "markdown",
   "id": "9926581e",
   "metadata": {},
   "source": [
    "# Estrategía de Inversión Simple\n"
   ]
  },
  {
   "cell_type": "markdown",
   "id": "3704a5df",
   "metadata": {},
   "source": [
    "# Estadistica Aplicada\n",
    "## Andrik Daniel Vazquez Regalado - 1905622\n",
    "### Sesión 13 - 22 de marzo del 2023"
   ]
  },
  {
   "cell_type": "code",
   "execution_count": 1,
   "id": "a6a6f92e",
   "metadata": {},
   "outputs": [],
   "source": [
    "# Las de siempre\n",
    "import numpy as np\n",
    "import pandas as pd \n",
    "import matplotlib.pyplot as plt \n",
    "%matplotlib inline"
   ]
  },
  {
   "cell_type": "code",
   "execution_count": 2,
   "id": "ded2baac",
   "metadata": {},
   "outputs": [],
   "source": [
    "# Librerias especializadas\n",
    "import yfinance as yf "
   ]
  },
  {
   "cell_type": "code",
   "execution_count": 3,
   "id": "e4c6a8d8",
   "metadata": {},
   "outputs": [],
   "source": [
    "# Datos\n",
    "ticker = \"AMZN.MX\"\n",
    "amazon = yf.download(ticker, \n",
    "                     start=\"2019-01-01\",\n",
    "                    end=\"2023-03-17\",\n",
    "                    progress=False)"
   ]
  },
  {
   "cell_type": "code",
   "execution_count": 5,
   "id": "25ce1411",
   "metadata": {},
   "outputs": [
    {
     "data": {
      "text/html": [
       "<div>\n",
       "<style scoped>\n",
       "    .dataframe tbody tr th:only-of-type {\n",
       "        vertical-align: middle;\n",
       "    }\n",
       "\n",
       "    .dataframe tbody tr th {\n",
       "        vertical-align: top;\n",
       "    }\n",
       "\n",
       "    .dataframe thead th {\n",
       "        text-align: right;\n",
       "    }\n",
       "</style>\n",
       "<table border=\"1\" class=\"dataframe\">\n",
       "  <thead>\n",
       "    <tr style=\"text-align: right;\">\n",
       "      <th></th>\n",
       "      <th>Open</th>\n",
       "      <th>High</th>\n",
       "      <th>Low</th>\n",
       "      <th>Close</th>\n",
       "      <th>Adj Close</th>\n",
       "      <th>Volume</th>\n",
       "    </tr>\n",
       "    <tr>\n",
       "      <th>Date</th>\n",
       "      <th></th>\n",
       "      <th></th>\n",
       "      <th></th>\n",
       "      <th></th>\n",
       "      <th></th>\n",
       "      <th></th>\n",
       "    </tr>\n",
       "  </thead>\n",
       "  <tbody>\n",
       "    <tr>\n",
       "      <th>2019-01-02</th>\n",
       "      <td>1451.000000</td>\n",
       "      <td>1522.499512</td>\n",
       "      <td>1451.000000</td>\n",
       "      <td>1497.750000</td>\n",
       "      <td>1497.750000</td>\n",
       "      <td>462900</td>\n",
       "    </tr>\n",
       "    <tr>\n",
       "      <th>2019-01-03</th>\n",
       "      <td>1507.400024</td>\n",
       "      <td>1507.400024</td>\n",
       "      <td>1472.250000</td>\n",
       "      <td>1474.000000</td>\n",
       "      <td>1474.000000</td>\n",
       "      <td>143880</td>\n",
       "    </tr>\n",
       "    <tr>\n",
       "      <th>2019-01-04</th>\n",
       "      <td>1500.449951</td>\n",
       "      <td>1541.362549</td>\n",
       "      <td>1496.500000</td>\n",
       "      <td>1527.000000</td>\n",
       "      <td>1527.000000</td>\n",
       "      <td>43580</td>\n",
       "    </tr>\n",
       "    <tr>\n",
       "      <th>2019-01-07</th>\n",
       "      <td>1550.000000</td>\n",
       "      <td>1581.000000</td>\n",
       "      <td>1539.500000</td>\n",
       "      <td>1578.361450</td>\n",
       "      <td>1578.361450</td>\n",
       "      <td>66960</td>\n",
       "    </tr>\n",
       "    <tr>\n",
       "      <th>2019-01-08</th>\n",
       "      <td>1612.531006</td>\n",
       "      <td>1612.531006</td>\n",
       "      <td>1570.910034</td>\n",
       "      <td>1605.208984</td>\n",
       "      <td>1605.208984</td>\n",
       "      <td>127960</td>\n",
       "    </tr>\n",
       "  </tbody>\n",
       "</table>\n",
       "</div>"
      ],
      "text/plain": [
       "                   Open         High          Low        Close    Adj Close  \\\n",
       "Date                                                                          \n",
       "2019-01-02  1451.000000  1522.499512  1451.000000  1497.750000  1497.750000   \n",
       "2019-01-03  1507.400024  1507.400024  1472.250000  1474.000000  1474.000000   \n",
       "2019-01-04  1500.449951  1541.362549  1496.500000  1527.000000  1527.000000   \n",
       "2019-01-07  1550.000000  1581.000000  1539.500000  1578.361450  1578.361450   \n",
       "2019-01-08  1612.531006  1612.531006  1570.910034  1605.208984  1605.208984   \n",
       "\n",
       "            Volume  \n",
       "Date                \n",
       "2019-01-02  462900  \n",
       "2019-01-03  143880  \n",
       "2019-01-04   43580  \n",
       "2019-01-07   66960  \n",
       "2019-01-08  127960  "
      ]
     },
     "execution_count": 5,
     "metadata": {},
     "output_type": "execute_result"
    }
   ],
   "source": [
    "amazon.head()"
   ]
  },
  {
   "cell_type": "code",
   "execution_count": 8,
   "id": "9d0fee61",
   "metadata": {},
   "outputs": [],
   "source": [
    "amazon = amazon[[\"Adj Close\"]]"
   ]
  },
  {
   "cell_type": "code",
   "execution_count": 9,
   "id": "62882497",
   "metadata": {},
   "outputs": [],
   "source": [
    "amazon = amazon.rename(columns={\"Adj Close\": \"precio de cierre\"})"
   ]
  },
  {
   "cell_type": "code",
   "execution_count": 10,
   "id": "77bb9b80",
   "metadata": {},
   "outputs": [
    {
     "data": {
      "text/html": [
       "<div>\n",
       "<style scoped>\n",
       "    .dataframe tbody tr th:only-of-type {\n",
       "        vertical-align: middle;\n",
       "    }\n",
       "\n",
       "    .dataframe tbody tr th {\n",
       "        vertical-align: top;\n",
       "    }\n",
       "\n",
       "    .dataframe thead th {\n",
       "        text-align: right;\n",
       "    }\n",
       "</style>\n",
       "<table border=\"1\" class=\"dataframe\">\n",
       "  <thead>\n",
       "    <tr style=\"text-align: right;\">\n",
       "      <th></th>\n",
       "      <th>precio de cierre</th>\n",
       "    </tr>\n",
       "    <tr>\n",
       "      <th>Date</th>\n",
       "      <th></th>\n",
       "    </tr>\n",
       "  </thead>\n",
       "  <tbody>\n",
       "    <tr>\n",
       "      <th>2019-01-02</th>\n",
       "      <td>1497.750000</td>\n",
       "    </tr>\n",
       "    <tr>\n",
       "      <th>2019-01-03</th>\n",
       "      <td>1474.000000</td>\n",
       "    </tr>\n",
       "    <tr>\n",
       "      <th>2019-01-04</th>\n",
       "      <td>1527.000000</td>\n",
       "    </tr>\n",
       "    <tr>\n",
       "      <th>2019-01-07</th>\n",
       "      <td>1578.361450</td>\n",
       "    </tr>\n",
       "    <tr>\n",
       "      <th>2019-01-08</th>\n",
       "      <td>1605.208984</td>\n",
       "    </tr>\n",
       "    <tr>\n",
       "      <th>...</th>\n",
       "      <td>...</td>\n",
       "    </tr>\n",
       "    <tr>\n",
       "      <th>2023-03-10</th>\n",
       "      <td>1673.250000</td>\n",
       "    </tr>\n",
       "    <tr>\n",
       "      <th>2023-03-13</th>\n",
       "      <td>1752.089966</td>\n",
       "    </tr>\n",
       "    <tr>\n",
       "      <th>2023-03-14</th>\n",
       "      <td>1754.829956</td>\n",
       "    </tr>\n",
       "    <tr>\n",
       "      <th>2023-03-15</th>\n",
       "      <td>1826.000000</td>\n",
       "    </tr>\n",
       "    <tr>\n",
       "      <th>2023-03-16</th>\n",
       "      <td>1870.920044</td>\n",
       "    </tr>\n",
       "  </tbody>\n",
       "</table>\n",
       "<p>1061 rows × 1 columns</p>\n",
       "</div>"
      ],
      "text/plain": [
       "            precio de cierre\n",
       "Date                        \n",
       "2019-01-02       1497.750000\n",
       "2019-01-03       1474.000000\n",
       "2019-01-04       1527.000000\n",
       "2019-01-07       1578.361450\n",
       "2019-01-08       1605.208984\n",
       "...                      ...\n",
       "2023-03-10       1673.250000\n",
       "2023-03-13       1752.089966\n",
       "2023-03-14       1754.829956\n",
       "2023-03-15       1826.000000\n",
       "2023-03-16       1870.920044\n",
       "\n",
       "[1061 rows x 1 columns]"
      ]
     },
     "execution_count": 10,
     "metadata": {},
     "output_type": "execute_result"
    }
   ],
   "source": [
    "amazon"
   ]
  },
  {
   "cell_type": "code",
   "execution_count": 12,
   "id": "a1d48a57",
   "metadata": {},
   "outputs": [
    {
     "data": {
      "image/png": "[encoded data removed]",
      "text/plain": [
       "<Figure size 432x288 with 1 Axes>"
      ]
     },
     "metadata": {
      "needs_background": "light"
     },
     "output_type": "display_data"
    }
   ],
   "source": [
    "amazon[\"precio de cierre\"].plot()\n",
    "plt.title(\"precio de la acción Amazon\\n 2019-2023\")\n",
    "plt.ylabel(\"peso MXN\")\n",
    "plt.show()"
   ]
  },
  {
   "cell_type": "code",
   "execution_count": 14,
   "id": "f68ebf04",
   "metadata": {},
   "outputs": [],
   "source": [
    "amazon[\"MA-10\"] = amazon[\"precio de cierre\"].rolling(window=10).mean()\n",
    "amazon[\"MA-60\"] = amazon[\"precio de cierre\"].rolling(window=60).mean() "
   ]
  },
  {
   "cell_type": "code",
   "execution_count": 18,
   "id": "964a3c86",
   "metadata": {},
   "outputs": [
    {
     "data": {
      "image/png": "[encoded data removed]",
      "text/plain": [
       "<Figure size 432x288 with 1 Axes>"
      ]
     },
     "metadata": {
      "needs_background": "light"
     },
     "output_type": "display_data"
    }
   ],
   "source": [
    "amazon[[\"MA-10\", \"MA-60\"]].plot();\n",
    "plt.title(\"Señal de largo plazo vs corto plazo\")\n",
    "plt.ylabel(\"pesos MXN\")\n",
    "plt.show();"
   ]
  }
 ],
 "metadata": {
  "kernelspec": {
   "display_name": "Python 3 (ipykernel)",
   "language": "python",
   "name": "python3"
  },
  "language_info": {
   "codemirror_mode": {
    "name": "ipython",
    "version": 3
   },
   "file_extension": ".py",
   "mimetype": "text/x-python",
   "name": "python",
   "nbconvert_exporter": "python",
   "pygments_lexer": "ipython3",
   "version": "3.9.12"
  }
 },
 "nbformat": 4,
 "nbformat_minor": 5
}
