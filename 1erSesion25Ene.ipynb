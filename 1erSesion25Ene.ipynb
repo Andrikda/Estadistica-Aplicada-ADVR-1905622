{
 "cells": [
  {
   "cell_type": "markdown",
   "id": "824ea062-8620-4c4e-a753-79a58c53eb83",
   "metadata": {},
   "source": [
    "# ESTADISTICA APLICADA"
   ]
  },
  {
   "cell_type": "markdown",
   "id": "e302512a-f0ff-402b-ae48-23a74ada1cc7",
   "metadata": {},
   "source": [
    "## 1ER Sesion "
   ]
  },
  {
   "cell_type": "markdown",
   "id": "0ee2b558-0e44-41fe-8539-e1505052fa88",
   "metadata": {},
   "source": [
    "**25 Enero**"
   ]
  },
  {
   "cell_type": "markdown",
   "id": "8934a60a-c174-4f9b-9c01-c525fa9114a4",
   "metadata": {},
   "source": [
    "La celda de Markdown tammbién admite codigo de latex"
   ]
  },
  {
   "cell_type": "markdown",
   "id": "ce6e0b12-aa73-4441-8a60-be91eebf3e94",
   "metadata": {},
   "source": [
    "$y_i=a+bx_i+\\epsilon_i$"
   ]
  },
  {
   "cell_type": "markdown",
   "id": "48cf15de-f834-4989-bb0e-f2316a704b9a",
   "metadata": {},
   "source": [
    "$y_i=a+bx_i+\\varepsilon_i$"
   ]
  },
  {
   "cell_type": "code",
   "execution_count": 5,
   "id": "ff9186be-3dce-4456-8294-5015468535f2",
   "metadata": {},
   "outputs": [],
   "source": [
    "variable1 = 1.34"
   ]
  },
  {
   "cell_type": "code",
   "execution_count": 6,
   "id": "ddb02e3f-b0df-424a-b2d7-b821cb0c39c0",
   "metadata": {},
   "outputs": [
    {
     "data": {
      "text/plain": [
       "1.34"
      ]
     },
     "execution_count": 6,
     "metadata": {},
     "output_type": "execute_result"
    }
   ],
   "source": [
    "variable1"
   ]
  },
  {
   "cell_type": "code",
   "execution_count": 7,
   "id": "5504ef67-0f4c-43b6-818b-fa82b564dd78",
   "metadata": {},
   "outputs": [],
   "source": [
    "variable2 = 2"
   ]
  },
  {
   "cell_type": "code",
   "execution_count": 8,
   "id": "a7287f98-2349-4973-8944-7f6a3fa8fa97",
   "metadata": {},
   "outputs": [
    {
     "data": {
      "text/plain": [
       "2"
      ]
     },
     "execution_count": 8,
     "metadata": {},
     "output_type": "execute_result"
    }
   ],
   "source": [
    "variable2"
   ]
  },
  {
   "cell_type": "code",
   "execution_count": 9,
   "id": "cdfb6888-e134-4265-acc4-4536dae72c56",
   "metadata": {},
   "outputs": [],
   "source": [
    "variable3 = \"a\""
   ]
  },
  {
   "cell_type": "code",
   "execution_count": 10,
   "id": "b54e802f-92f8-428c-9118-4d453c3f5181",
   "metadata": {},
   "outputs": [
    {
     "data": {
      "text/plain": [
       "'a'"
      ]
     },
     "execution_count": 10,
     "metadata": {},
     "output_type": "execute_result"
    }
   ],
   "source": [
    "variable3"
   ]
  },
  {
   "cell_type": "code",
   "execution_count": 11,
   "id": "8258ab5c-bae7-440d-bc18-d72c48a988d1",
   "metadata": {},
   "outputs": [
    {
     "data": {
      "text/plain": [
       "float"
      ]
     },
     "execution_count": 11,
     "metadata": {},
     "output_type": "execute_result"
    }
   ],
   "source": [
    "type(variable1)"
   ]
  },
  {
   "cell_type": "code",
   "execution_count": 12,
   "id": "eabb5c31-3aaa-4128-bd4d-0d5c8c9087bb",
   "metadata": {},
   "outputs": [
    {
     "data": {
      "text/plain": [
       "int"
      ]
     },
     "execution_count": 12,
     "metadata": {},
     "output_type": "execute_result"
    }
   ],
   "source": [
    "type(variable2)"
   ]
  },
  {
   "cell_type": "code",
   "execution_count": 13,
   "id": "47187a73-dda7-45d0-a46e-ccf0bd07c52f",
   "metadata": {},
   "outputs": [
    {
     "data": {
      "text/plain": [
       "str"
      ]
     },
     "execution_count": 13,
     "metadata": {},
     "output_type": "execute_result"
    }
   ],
   "source": [
    "type(variable3)"
   ]
  },
  {
   "cell_type": "code",
   "execution_count": 14,
   "id": "d28e7b94-5500-4035-93d0-e856d34f6b2a",
   "metadata": {},
   "outputs": [],
   "source": [
    "variable2 = float(variable2)"
   ]
  },
  {
   "cell_type": "code",
   "execution_count": 15,
   "id": "332bd6ce-ba93-4b07-9d20-183a4053c64f",
   "metadata": {},
   "outputs": [
    {
     "data": {
      "text/plain": [
       "float"
      ]
     },
     "execution_count": 15,
     "metadata": {},
     "output_type": "execute_result"
    }
   ],
   "source": [
    "type(variable2)"
   ]
  },
  {
   "cell_type": "code",
   "execution_count": 16,
   "id": "57436de9-a499-4fd2-90e9-1eef3318c5a7",
   "metadata": {},
   "outputs": [
    {
     "name": "stdout",
     "output_type": "stream",
     "text": [
      "1.34\n"
     ]
    }
   ],
   "source": [
    "print(variable1)"
   ]
  },
  {
   "cell_type": "code",
   "execution_count": 17,
   "id": "99c8c52c-5564-4d75-82ab-6495d2109471",
   "metadata": {},
   "outputs": [
    {
     "data": {
      "text/plain": [
       "(2.0, 'a')"
      ]
     },
     "execution_count": 17,
     "metadata": {},
     "output_type": "execute_result"
    }
   ],
   "source": [
    "variable2, variable3"
   ]
  },
  {
   "cell_type": "code",
   "execution_count": 18,
   "id": "8e770834-f0f2-4938-9d19-6aefadf5022d",
   "metadata": {},
   "outputs": [
    {
     "name": "stdout",
     "output_type": "stream",
     "text": [
      "2.0 a\n"
     ]
    }
   ],
   "source": [
    "print(variable2, variable3)"
   ]
  },
  {
   "cell_type": "code",
   "execution_count": 21,
   "id": "149d93aa-b8b5-41d5-904c-a6e087bcdc80",
   "metadata": {},
   "outputs": [
    {
     "name": "stdout",
     "output_type": "stream",
     "text": [
      "Este es un dos decimal: 2.0\n"
     ]
    }
   ],
   "source": [
    "print(\"Este es un dos decimal:\", variable2)"
   ]
  },
  {
   "cell_type": "code",
   "execution_count": 20,
   "id": "13fda417-7f4e-471b-96d2-5414295f4905",
   "metadata": {},
   "outputs": [
    {
     "name": "stdout",
     "output_type": "stream",
     "text": [
      "Este es un dos decimal (variable2)\n"
     ]
    }
   ],
   "source": [
    "print(f\"Este es un dos decimal (variable2)\")"
   ]
  },
  {
   "cell_type": "code",
   "execution_count": 22,
   "id": "07f17d6a-7786-4451-a1e7-a99ca0a2fdac",
   "metadata": {},
   "outputs": [
    {
     "data": {
      "text/plain": [
       "True"
      ]
     },
     "execution_count": 22,
     "metadata": {},
     "output_type": "execute_result"
    }
   ],
   "source": [
    "7>5"
   ]
  },
  {
   "cell_type": "code",
   "execution_count": 23,
   "id": "02084b4b-3ec2-4502-82ea-8eb9f96144b7",
   "metadata": {},
   "outputs": [
    {
     "data": {
      "text/plain": [
       "False"
      ]
     },
     "execution_count": 23,
     "metadata": {},
     "output_type": "execute_result"
    }
   ],
   "source": [
    "7>10"
   ]
  },
  {
   "cell_type": "code",
   "execution_count": 24,
   "id": "cfa4353a-a289-4bfa-be83-8425e47f1de0",
   "metadata": {},
   "outputs": [
    {
     "data": {
      "text/plain": [
       "False"
      ]
     },
     "execution_count": 24,
     "metadata": {},
     "output_type": "execute_result"
    }
   ],
   "source": [
    "7>5 & 7>10"
   ]
  },
  {
   "cell_type": "code",
   "execution_count": 25,
   "id": "7836bf34-1b88-48f4-8ad1-1ea572542cc7",
   "metadata": {},
   "outputs": [
    {
     "data": {
      "text/plain": [
       "False"
      ]
     },
     "execution_count": 25,
     "metadata": {},
     "output_type": "execute_result"
    }
   ],
   "source": [
    "7>5 | 7>10"
   ]
  },
  {
   "cell_type": "code",
   "execution_count": 26,
   "id": "1cdb2d56-ad0f-4f02-aabf-c9b192ef6db4",
   "metadata": {},
   "outputs": [
    {
     "data": {
      "text/plain": [
       "12"
      ]
     },
     "execution_count": 26,
     "metadata": {},
     "output_type": "execute_result"
    }
   ],
   "source": [
    "5+7"
   ]
  },
  {
   "cell_type": "code",
   "execution_count": 27,
   "id": "9534c938-27f2-4b90-80e5-a61a6f8bdf2c",
   "metadata": {},
   "outputs": [
    {
     "data": {
      "text/plain": [
       "7"
      ]
     },
     "execution_count": 27,
     "metadata": {},
     "output_type": "execute_result"
    }
   ],
   "source": [
    "10-3"
   ]
  },
  {
   "cell_type": "code",
   "execution_count": 28,
   "id": "ade68ab3-41ba-455f-9533-96d5de9e48a5",
   "metadata": {},
   "outputs": [
    {
     "data": {
      "text/plain": [
       "5000.0"
      ]
     },
     "execution_count": 28,
     "metadata": {},
     "output_type": "execute_result"
    }
   ],
   "source": [
    "25000/5"
   ]
  },
  {
   "cell_type": "code",
   "execution_count": 29,
   "id": "08caf408-b675-49bd-95c7-1e98f679730d",
   "metadata": {},
   "outputs": [
    {
     "data": {
      "text/plain": [
       "15"
      ]
     },
     "execution_count": 29,
     "metadata": {},
     "output_type": "execute_result"
    }
   ],
   "source": [
    "5*3"
   ]
  },
  {
   "cell_type": "code",
   "execution_count": 30,
   "id": "bc3830e1-1464-4e75-a0fa-35b13c22763c",
   "metadata": {},
   "outputs": [
    {
     "data": {
      "text/plain": [
       "27"
      ]
     },
     "execution_count": 30,
     "metadata": {},
     "output_type": "execute_result"
    }
   ],
   "source": [
    "3**3 #Potencia"
   ]
  },
  {
   "cell_type": "code",
   "execution_count": 31,
   "id": "797003fa-c316-4ac6-80ea-2d3ef45a556a",
   "metadata": {},
   "outputs": [],
   "source": [
    "alumno1 = [\"Juan\", \"Perez\", 23]"
   ]
  },
  {
   "cell_type": "code",
   "execution_count": 32,
   "id": "a430b715-c79d-458d-849a-a2296fe6e24e",
   "metadata": {},
   "outputs": [
    {
     "data": {
      "text/plain": [
       "['Juan', 'Perez', 23]"
      ]
     },
     "execution_count": 32,
     "metadata": {},
     "output_type": "execute_result"
    }
   ],
   "source": [
    "alumno1"
   ]
  },
  {
   "cell_type": "code",
   "execution_count": 33,
   "id": "c2d883c1-370a-4782-837e-13ebb24f97d6",
   "metadata": {},
   "outputs": [],
   "source": [
    "estadistica_g4 = [\"Juan\", \"Raúl\", \"Jimena\", \"Alejandra\"]"
   ]
  },
  {
   "cell_type": "code",
   "execution_count": 34,
   "id": "a9093b51-b2ac-46c5-a22d-0c9739f154e7",
   "metadata": {},
   "outputs": [
    {
     "data": {
      "text/plain": [
       "['Juan', 'Raúl', 'Jimena', 'Alejandra']"
      ]
     },
     "execution_count": 34,
     "metadata": {},
     "output_type": "execute_result"
    }
   ],
   "source": [
    "estadistica_g4"
   ]
  },
  {
   "cell_type": "code",
   "execution_count": 35,
   "id": "cf67a699-60cd-44fa-b139-b286fb283dab",
   "metadata": {},
   "outputs": [
    {
     "data": {
      "text/plain": [
       "'Jimena'"
      ]
     },
     "execution_count": 35,
     "metadata": {},
     "output_type": "execute_result"
    }
   ],
   "source": [
    "estadistica_g4[2]"
   ]
  },
  {
   "cell_type": "code",
   "execution_count": 36,
   "id": "7e43c0ce-6194-4c14-ad0b-5ff132cf8c40",
   "metadata": {},
   "outputs": [
    {
     "data": {
      "text/plain": [
       "['Juan', 'Raúl']"
      ]
     },
     "execution_count": 36,
     "metadata": {},
     "output_type": "execute_result"
    }
   ],
   "source": [
    "estadistica_g4[0:2]"
   ]
  },
  {
   "cell_type": "code",
   "execution_count": 37,
   "id": "07ac5389-0738-46e5-8ded-9c996c8e8ed8",
   "metadata": {},
   "outputs": [],
   "source": [
    "estadistica_g4.append(\"jaime\") #agregamos elementos a la lista"
   ]
  },
  {
   "cell_type": "code",
   "execution_count": 38,
   "id": "81e93cc1-2826-4e5b-a068-d1e5730d8d4c",
   "metadata": {},
   "outputs": [
    {
     "data": {
      "text/plain": [
       "['Juan', 'Raúl', 'Jimena', 'Alejandra', 'jaime']"
      ]
     },
     "execution_count": 38,
     "metadata": {},
     "output_type": "execute_result"
    }
   ],
   "source": [
    "estadistica_g4"
   ]
  },
  {
   "cell_type": "code",
   "execution_count": 41,
   "id": "c4a00a0f-b137-4f43-961c-57b71743ae57",
   "metadata": {},
   "outputs": [],
   "source": [
    "estadistica_g4.remove(\"Jimena\") #quitamos elementos de la lista"
   ]
  },
  {
   "cell_type": "code",
   "execution_count": 42,
   "id": "7684eff3-f8ff-4abb-bca7-8c53e5d7ce02",
   "metadata": {},
   "outputs": [
    {
     "data": {
      "text/plain": [
       "['Juan', 'Raúl', 'Alejandra', 'jaime']"
      ]
     },
     "execution_count": 42,
     "metadata": {},
     "output_type": "execute_result"
    }
   ],
   "source": [
    "estadistica_g4"
   ]
  },
  {
   "cell_type": "code",
   "execution_count": null,
   "id": "eece5023-08cc-4927-9df4-16cf1e4fca95",
   "metadata": {},
   "outputs": [],
   "source": []
  }
 ],
 "metadata": {
  "kernelspec": {
   "display_name": "Python 3 (ipykernel)",
   "language": "python",
   "name": "python3"
  },
  "language_info": {
   "codemirror_mode": {
    "name": "ipython",
    "version": 3
   },
   "file_extension": ".py",
   "mimetype": "text/x-python",
   "name": "python",
   "nbconvert_exporter": "python",
   "pygments_lexer": "ipython3",
   "version": "3.9.13"
  }
 },
 "nbformat": 4,
 "nbformat_minor": 5
}
