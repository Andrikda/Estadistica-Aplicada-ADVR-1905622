{
 "cells": [
  {
   "cell_type": "markdown",
   "id": "7224f28c",
   "metadata": {},
   "source": [
    "# Estadistica Aplicada\n",
    "# Andrik Daniel Vazquez Regalado - 1905622\n",
    "# 6ta Sesión parte b 9 feb"
   ]
  },
  {
   "cell_type": "markdown",
   "id": "41071f11",
   "metadata": {},
   "source": [
    "**repaso de regresión**"
   ]
  },
  {
   "cell_type": "code",
   "execution_count": 2,
   "id": "98f6846c",
   "metadata": {},
   "outputs": [],
   "source": [
    "import numpy as np\n",
    "import pandas as pd \n",
    "import matplotlib.pyplot as plt \n",
    "import statsmodels.formula.api as smf\n",
    "%matplotlib inline"
   ]
  },
  {
   "cell_type": "code",
   "execution_count": 3,
   "id": "633fd915",
   "metadata": {},
   "outputs": [],
   "source": [
    "datos = pd.read_excel(\"modelolineal.xlsx\")"
   ]
  },
  {
   "cell_type": "code",
   "execution_count": 4,
   "id": "6aa3d3ee",
   "metadata": {},
   "outputs": [
    {
     "data": {
      "text/plain": [
       "(30, 3)"
      ]
     },
     "execution_count": 4,
     "metadata": {},
     "output_type": "execute_result"
    }
   ],
   "source": [
    "datos.shape"
   ]
  },
  {
   "cell_type": "code",
   "execution_count": 5,
   "id": "0cd839ef",
   "metadata": {},
   "outputs": [
    {
     "data": {
      "text/html": [
       "<div>\n",
       "<style scoped>\n",
       "    .dataframe tbody tr th:only-of-type {\n",
       "        vertical-align: middle;\n",
       "    }\n",
       "\n",
       "    .dataframe tbody tr th {\n",
       "        vertical-align: top;\n",
       "    }\n",
       "\n",
       "    .dataframe thead th {\n",
       "        text-align: right;\n",
       "    }\n",
       "</style>\n",
       "<table border=\"1\" class=\"dataframe\">\n",
       "  <thead>\n",
       "    <tr style=\"text-align: right;\">\n",
       "      <th></th>\n",
       "      <th>observación</th>\n",
       "      <th>Y</th>\n",
       "      <th>X</th>\n",
       "    </tr>\n",
       "  </thead>\n",
       "  <tbody>\n",
       "    <tr>\n",
       "      <th>0</th>\n",
       "      <td>1</td>\n",
       "      <td>19.246957</td>\n",
       "      <td>23</td>\n",
       "    </tr>\n",
       "    <tr>\n",
       "      <th>1</th>\n",
       "      <td>2</td>\n",
       "      <td>16.878501</td>\n",
       "      <td>19</td>\n",
       "    </tr>\n",
       "    <tr>\n",
       "      <th>2</th>\n",
       "      <td>3</td>\n",
       "      <td>20.187237</td>\n",
       "      <td>27</td>\n",
       "    </tr>\n",
       "    <tr>\n",
       "      <th>3</th>\n",
       "      <td>4</td>\n",
       "      <td>12.176789</td>\n",
       "      <td>13</td>\n",
       "    </tr>\n",
       "    <tr>\n",
       "      <th>4</th>\n",
       "      <td>5</td>\n",
       "      <td>21.420112</td>\n",
       "      <td>21</td>\n",
       "    </tr>\n",
       "  </tbody>\n",
       "</table>\n",
       "</div>"
      ],
      "text/plain": [
       "   observación          Y   X\n",
       "0            1  19.246957  23\n",
       "1            2  16.878501  19\n",
       "2            3  20.187237  27\n",
       "3            4  12.176789  13\n",
       "4            5  21.420112  21"
      ]
     },
     "execution_count": 5,
     "metadata": {},
     "output_type": "execute_result"
    }
   ],
   "source": [
    "datos.head()"
   ]
  },
  {
   "cell_type": "code",
   "execution_count": 9,
   "id": "4cf88e99",
   "metadata": {},
   "outputs": [
    {
     "data": {
      "image/png": "[encoded data removed]",
      "text/plain": [
       "<Figure size 432x288 with 1 Axes>"
      ]
     },
     "metadata": {
      "needs_background": "light"
     },
     "output_type": "display_data"
    }
   ],
   "source": [
    "#Grafico de dispersión\n",
    "datos.plot(\"X\",\"Y\", kind = \"scatter\"); #pandas\n",
    "plt.title(\"Grafico de dispersión\")\n",
    "plt.xlim(0,30)\n",
    "plt.ylabel(\"Valores de Y\")\n",
    "plt.xlabel(\"Valores de X\")\n",
    "plt.show;"
   ]
  },
  {
   "cell_type": "code",
   "execution_count": 11,
   "id": "552277a1",
   "metadata": {},
   "outputs": [
    {
     "name": "stdout",
     "output_type": "stream",
     "text": [
      "                            OLS Regression Results                            \n",
      "==============================================================================\n",
      "Dep. Variable:                      Y   R-squared:                       0.732\n",
      "Model:                            OLS   Adj. R-squared:                  0.722\n",
      "Method:                 Least Squares   F-statistic:                     76.40\n",
      "Date:                Thu, 09 Feb 2023   Prob (F-statistic):           1.72e-09\n",
      "Time:                        16:11:21   Log-Likelihood:                -74.480\n",
      "No. Observations:                  30   AIC:                             153.0\n",
      "Df Residuals:                      28   BIC:                             155.8\n",
      "Df Model:                           1                                         \n",
      "Covariance Type:            nonrobust                                         \n",
      "==============================================================================\n",
      "                 coef    std err          t      P>|t|      [0.025      0.975]\n",
      "------------------------------------------------------------------------------\n",
      "Intercept      8.9619      1.276      7.022      0.000       6.347      11.576\n",
      "X              0.5814      0.067      8.740      0.000       0.445       0.718\n",
      "==============================================================================\n",
      "Omnibus:                        0.249   Durbin-Watson:                   1.658\n",
      "Prob(Omnibus):                  0.883   Jarque-Bera (JB):                0.440\n",
      "Skew:                           0.121   Prob(JB):                        0.803\n",
      "Kurtosis:                       2.459   Cond. No.                         44.8\n",
      "==============================================================================\n",
      "\n",
      "Notes:\n",
      "[1] Standard Errors assume that the covariance matrix of the errors is correctly specified.\n"
     ]
    }
   ],
   "source": [
    "reg = smf.ols(formula = \"Y~X\", data = datos)  #ols minimos cuadrados\n",
    "results = reg.fit()\n",
    "print(results.summary())"
   ]
  },
  {
   "cell_type": "markdown",
   "id": "df6d8476",
   "metadata": {},
   "source": [
    "El coeficiente estimado para $\\beta_0$ es de 8.9619 \n",
    "\n",
    "El intervalo de confianza al 95% es de (6.347,11.576) \n",
    "\n",
    "El p_value es de 0.00 se rechaza $H_0$ que significa que el verdadero intercepto es distinto de cero \n",
    "\n",
    "El valor estimado $\\beta_1$ es de 0.5814, el intervalo de confianza al 95% es de (0.445-0.718), el p-value es de 0.000 por tanto se rechaza $H_0$ lo que significa que X si afecta a Y. \n",
    "\n",
    "En promedio por cada unidad que aumenta X, Y se incrementa en 0.5814."
   ]
  },
  {
   "cell_type": "code",
   "execution_count": null,
   "id": "d2cd8176",
   "metadata": {},
   "outputs": [],
   "source": []
  }
 ],
 "metadata": {
  "kernelspec": {
   "display_name": "Python 3 (ipykernel)",
   "language": "python",
   "name": "python3"
  },
  "language_info": {
   "codemirror_mode": {
    "name": "ipython",
    "version": 3
   },
   "file_extension": ".py",
   "mimetype": "text/x-python",
   "name": "python",
   "nbconvert_exporter": "python",
   "pygments_lexer": "ipython3",
   "version": "3.9.12"
  }
 },
 "nbformat": 4,
 "nbformat_minor": 5
}
