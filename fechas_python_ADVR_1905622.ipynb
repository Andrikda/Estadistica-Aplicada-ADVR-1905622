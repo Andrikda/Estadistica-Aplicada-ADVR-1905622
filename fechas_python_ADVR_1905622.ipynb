{
 "cells": [
  {
   "cell_type": "markdown",
   "id": "f32c462d",
   "metadata": {},
   "source": [
    "# Variables de tipo fecha/tiempo em python"
   ]
  },
  {
   "cell_type": "markdown",
   "id": "fb8c8960",
   "metadata": {},
   "source": [
    "**Estadistica Aplicada**\n",
    "\n",
    "**Andrik Daniel Vazquez Regalado - 1905622**\n",
    "\n",
    "**Sesión 15 - 30 de marzo de 2023**"
   ]
  },
  {
   "cell_type": "markdown",
   "id": "13038b2d",
   "metadata": {},
   "source": [
    "## fechas en datetime"
   ]
  },
  {
   "cell_type": "code",
   "execution_count": 1,
   "id": "4654cf70",
   "metadata": {},
   "outputs": [],
   "source": [
    "# importar date time\n",
    "from datetime import datetime"
   ]
  },
  {
   "cell_type": "code",
   "execution_count": 2,
   "id": "c8dc3cee",
   "metadata": {},
   "outputs": [],
   "source": [
    "# fecha hoy\n",
    "mi_year = 2023\n",
    "mi_mes = 3\n",
    "mi_dia = 30\n",
    "mi_hora = 15\n",
    "mi_minuto = 25\n",
    "mi_segundo = 30"
   ]
  },
  {
   "cell_type": "code",
   "execution_count": 3,
   "id": "c5600318",
   "metadata": {},
   "outputs": [],
   "source": [
    "# formato fecha AÑO-MES-DIA\n",
    "mi_fecha = datetime(mi_year, mi_mes, mi_dia)"
   ]
  },
  {
   "cell_type": "code",
   "execution_count": 4,
   "id": "b7788ad5",
   "metadata": {},
   "outputs": [
    {
     "data": {
      "text/plain": [
       "datetime.datetime(2023, 3, 30, 0, 0)"
      ]
     },
     "execution_count": 4,
     "metadata": {},
     "output_type": "execute_result"
    }
   ],
   "source": [
    "mi_fecha"
   ]
  },
  {
   "cell_type": "code",
   "execution_count": 5,
   "id": "82146490",
   "metadata": {},
   "outputs": [],
   "source": [
    "mi_fecha_hora = datetime(mi_year, mi_mes, mi_dia, mi_hora, mi_minuto, mi_segundo)"
   ]
  },
  {
   "cell_type": "code",
   "execution_count": 6,
   "id": "3635afc9",
   "metadata": {},
   "outputs": [
    {
     "data": {
      "text/plain": [
       "datetime.datetime(2023, 3, 30, 15, 25, 30)"
      ]
     },
     "execution_count": 6,
     "metadata": {},
     "output_type": "execute_result"
    }
   ],
   "source": [
    "mi_fecha_hora"
   ]
  },
  {
   "cell_type": "markdown",
   "id": "90c9c40b",
   "metadata": {},
   "source": [
    "**una vez que una variable es de tipo fecha podemos acceder a sus componentes**"
   ]
  },
  {
   "cell_type": "code",
   "execution_count": 7,
   "id": "dade11dd",
   "metadata": {},
   "outputs": [
    {
     "data": {
      "text/plain": [
       "2023"
      ]
     },
     "execution_count": 7,
     "metadata": {},
     "output_type": "execute_result"
    }
   ],
   "source": [
    "## acceder el año de mi_fecha_hora\n",
    "mi_fecha_hora.year"
   ]
  },
  {
   "cell_type": "code",
   "execution_count": 8,
   "id": "dba3f3af",
   "metadata": {},
   "outputs": [
    {
     "data": {
      "text/plain": [
       "3"
      ]
     },
     "execution_count": 8,
     "metadata": {},
     "output_type": "execute_result"
    }
   ],
   "source": [
    "## acceder al mes de mi_fecha_hora\n",
    "mi_fecha_hora.month"
   ]
  },
  {
   "cell_type": "code",
   "execution_count": 9,
   "id": "7f64d611",
   "metadata": {},
   "outputs": [
    {
     "data": {
      "text/plain": [
       "25"
      ]
     },
     "execution_count": 9,
     "metadata": {},
     "output_type": "execute_result"
    }
   ],
   "source": [
    "## acceder al minuto de mi_fecha_hora\n",
    "mi_fecha_hora.minute"
   ]
  },
  {
   "cell_type": "markdown",
   "id": "926cfffb",
   "metadata": {},
   "source": [
    "## fechas en numpy"
   ]
  },
  {
   "cell_type": "code",
   "execution_count": 10,
   "id": "080544d0",
   "metadata": {},
   "outputs": [],
   "source": [
    "import numpy as np"
   ]
  },
  {
   "cell_type": "code",
   "execution_count": 11,
   "id": "1f0d531d",
   "metadata": {},
   "outputs": [
    {
     "data": {
      "text/plain": [
       "array(['2001-10-29', '2002-11-19'], dtype='datetime64[D]')"
      ]
     },
     "execution_count": 11,
     "metadata": {},
     "output_type": "execute_result"
    }
   ],
   "source": [
    "np.array([\"2001-10-29\",\"2002-11-19\"], dtype = \"datetime64\")"
   ]
  },
  {
   "cell_type": "code",
   "execution_count": 12,
   "id": "212cc186",
   "metadata": {},
   "outputs": [
    {
     "data": {
      "text/plain": [
       "array(['2001-10-29T00', '2002-11-19T00'], dtype='datetime64[h]')"
      ]
     },
     "execution_count": 12,
     "metadata": {},
     "output_type": "execute_result"
    }
   ],
   "source": [
    "np.array([\"2001-10-29\",\"2002-11-19\"], dtype = \"datetime64[h]\")"
   ]
  },
  {
   "cell_type": "code",
   "execution_count": 13,
   "id": "455e4ffd",
   "metadata": {},
   "outputs": [
    {
     "data": {
      "text/plain": [
       "array(['2001', '2002'], dtype='datetime64[Y]')"
      ]
     },
     "execution_count": 13,
     "metadata": {},
     "output_type": "execute_result"
    }
   ],
   "source": [
    "np.array([\"2001-10-29\",\"2002-11-19\"], dtype = \"datetime64[Y]\")"
   ]
  },
  {
   "cell_type": "code",
   "execution_count": 14,
   "id": "420556a4",
   "metadata": {},
   "outputs": [
    {
     "data": {
      "text/plain": [
       "array(['2001-10', '2002-11'], dtype='datetime64[M]')"
      ]
     },
     "execution_count": 14,
     "metadata": {},
     "output_type": "execute_result"
    }
   ],
   "source": [
    "np.array([\"2001-10-29\",\"2002-11-19\"], dtype = \"datetime64[M]\")"
   ]
  },
  {
   "cell_type": "code",
   "execution_count": 17,
   "id": "4134aa89",
   "metadata": {},
   "outputs": [
    {
     "data": {
      "text/plain": [
       "array(['1985', '1986', '1987', '1988', '1989', '1990', '1991', '1992',\n",
       "       '1993', '1994', '1995', '1996', '1997', '1998', '1999', '2000',\n",
       "       '2001', '2002', '2003', '2004', '2005', '2006', '2007', '2008',\n",
       "       '2009', '2010', '2011', '2012', '2013', '2014', '2015', '2016',\n",
       "       '2017', '2018', '2019', '2020', '2021', '2022'],\n",
       "      dtype='datetime64[Y]')"
      ]
     },
     "execution_count": 17,
     "metadata": {},
     "output_type": "execute_result"
    }
   ],
   "source": [
    "np.arange(\"1985-04-12\",\"2023-03-30\",1, dtype = \"datetime64[Y]\")"
   ]
  },
  {
   "cell_type": "code",
   "execution_count": 19,
   "id": "e9486e95",
   "metadata": {},
   "outputs": [
    {
     "data": {
      "text/plain": [
       "array(['2023-01-23', '2023-01-30', '2023-02-06', '2023-02-13',\n",
       "       '2023-02-20', '2023-02-27', '2023-03-06', '2023-03-13',\n",
       "       '2023-03-20', '2023-03-27'], dtype='datetime64[D]')"
      ]
     },
     "execution_count": 19,
     "metadata": {},
     "output_type": "execute_result"
    }
   ],
   "source": [
    "np.arange(\"2023-01-23\", \"2023-03-30\", 7, dtype = \"datetime64[D]\")"
   ]
  },
  {
   "cell_type": "markdown",
   "id": "e2011d33",
   "metadata": {},
   "source": [
    "# fechas en pandas"
   ]
  },
  {
   "cell_type": "code",
   "execution_count": 20,
   "id": "308d0f60",
   "metadata": {},
   "outputs": [],
   "source": [
    "import pandas as pd "
   ]
  },
  {
   "cell_type": "code",
   "execution_count": 21,
   "id": "914b2857",
   "metadata": {},
   "outputs": [],
   "source": [
    "# la semana del 8 de julio de 2018\n",
    "semana8 = pd.date_range(\"7/8/18\", periods=7, freq=\"D\")"
   ]
  },
  {
   "cell_type": "code",
   "execution_count": 22,
   "id": "40507719",
   "metadata": {},
   "outputs": [
    {
     "data": {
      "text/plain": [
       "DatetimeIndex(['2018-07-08', '2018-07-09', '2018-07-10', '2018-07-11',\n",
       "               '2018-07-12', '2018-07-13', '2018-07-14'],\n",
       "              dtype='datetime64[ns]', freq='D')"
      ]
     },
     "execution_count": 22,
     "metadata": {},
     "output_type": "execute_result"
    }
   ],
   "source": [
    "semana8"
   ]
  },
  {
   "cell_type": "code",
   "execution_count": 23,
   "id": "c8da28c6",
   "metadata": {},
   "outputs": [
    {
     "data": {
      "text/plain": [
       "DatetimeIndex(['2023-04-12', '2023-03-30', '2020-01-01'], dtype='datetime64[ns]', freq=None)"
      ]
     },
     "execution_count": 23,
     "metadata": {},
     "output_type": "execute_result"
    }
   ],
   "source": [
    "# de que forma le podemos pasar fechas a pandas\n",
    "pd.to_datetime([\"Apr 12, 2023\", \"3/30/2023\", \"1 Jan 2020\"])"
   ]
  },
  {
   "cell_type": "code",
   "execution_count": 24,
   "id": "34843296",
   "metadata": {},
   "outputs": [],
   "source": [
    "algunas_fechas = np.array([\"2023-01-12\", \"2022-04-10\"], dtype = \"datetime64[D]\")"
   ]
  },
  {
   "cell_type": "code",
   "execution_count": 25,
   "id": "ff249b2d",
   "metadata": {},
   "outputs": [
    {
     "data": {
      "text/plain": [
       "array(['2023-01-12', '2022-04-10'], dtype='datetime64[D]')"
      ]
     },
     "execution_count": 25,
     "metadata": {},
     "output_type": "execute_result"
    }
   ],
   "source": [
    "algunas_fechas"
   ]
  },
  {
   "cell_type": "code",
   "execution_count": 27,
   "id": "35cf167d",
   "metadata": {},
   "outputs": [],
   "source": [
    "## las podemos usar en pandas\n",
    "algunas_fechas=pd.to_datetime(algunas_fechas)"
   ]
  }
 ],
 "metadata": {
  "kernelspec": {
   "display_name": "Python 3 (ipykernel)",
   "language": "python",
   "name": "python3"
  },
  "language_info": {
   "codemirror_mode": {
    "name": "ipython",
    "version": 3
   },
   "file_extension": ".py",
   "mimetype": "text/x-python",
   "name": "python",
   "nbconvert_exporter": "python",
   "pygments_lexer": "ipython3",
   "version": "3.9.12"
  }
 },
 "nbformat": 4,
 "nbformat_minor": 5
}
