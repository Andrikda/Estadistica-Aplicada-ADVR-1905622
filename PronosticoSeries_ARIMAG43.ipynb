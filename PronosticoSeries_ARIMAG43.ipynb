{
  "cells": [
    {
      "cell_type": "markdown",
      "id": "0c7f13da",
      "metadata": {
        "id": "0c7f13da"
      },
      "source": [
        "# Estadística Aplicada\n",
        "## Andrik Daniel Vazquez Regalado 1905622\n",
        "### 3 Mayo 2023"
      ]
    },
    {
      "cell_type": "markdown",
      "id": "5b473fdd",
      "metadata": {
        "id": "5b473fdd"
      },
      "source": [
        "## Pronóstico de Series de Tiempo (ARIMA)"
      ]
    },
    {
      "cell_type": "code",
      "execution_count": null,
      "id": "c7031415",
      "metadata": {
        "id": "c7031415"
      },
      "outputs": [],
      "source": [
        "# Las de siempre\n",
        "import numpy as np\n",
        "import pandas as pd \n",
        "import matplotlib.pyplot as plt\n",
        "%matplotlib inline"
      ]
    },
    {
      "cell_type": "code",
      "execution_count": null,
      "id": "a20cbe5a",
      "metadata": {
        "id": "a20cbe5a"
      },
      "outputs": [],
      "source": [
        "## Las de series\n",
        "# Las de series de tiempo\n",
        "from statsmodels.graphics.tsaplots import plot_acf\n",
        "from statsmodels.graphics.tsaplots import plot_pacf\n",
        "from statsmodels.tsa.stattools import adfuller\n",
        "\n",
        "## Modelo ARIMA\n",
        "from statsmodels.tsa.arima.model import ARIMA "
      ]
    },
    {
      "cell_type": "code",
      "execution_count": null,
      "id": "f3d5c98b",
      "metadata": {
        "id": "f3d5c98b"
      },
      "outputs": [],
      "source": [
        "## La base de datos\n",
        "igae = pd.read_excel('IGAE.xlsx')\n",
        "## Esta serie es de frecuencia mensual"
      ]
    },
    {
      "cell_type": "markdown",
      "id": "a05b96f5",
      "metadata": {
        "id": "a05b96f5"
      },
      "source": [
        "Cuando trabajemos con series de tiempo siempre hay que definir/especificar la variable de tiempo y hay que convertirla en el index"
      ]
    },
    {
      "cell_type": "code",
      "execution_count": null,
      "id": "6596472b",
      "metadata": {
        "id": "6596472b",
        "outputId": "fa62bdb4-61d6-4faf-d137-b86ea30e08e7"
      },
      "outputs": [
        {
          "data": {
            "text/html": [
              "<div>\n",
              "<style scoped>\n",
              "    .dataframe tbody tr th:only-of-type {\n",
              "        vertical-align: middle;\n",
              "    }\n",
              "\n",
              "    .dataframe tbody tr th {\n",
              "        vertical-align: top;\n",
              "    }\n",
              "\n",
              "    .dataframe thead th {\n",
              "        text-align: right;\n",
              "    }\n",
              "</style>\n",
              "<table border=\"1\" class=\"dataframe\">\n",
              "  <thead>\n",
              "    <tr style=\"text-align: right;\">\n",
              "      <th></th>\n",
              "      <th>Periodos</th>\n",
              "      <th>IGAE</th>\n",
              "    </tr>\n",
              "  </thead>\n",
              "  <tbody>\n",
              "    <tr>\n",
              "      <th>0</th>\n",
              "      <td>2000/01</td>\n",
              "      <td>79.325572</td>\n",
              "    </tr>\n",
              "    <tr>\n",
              "      <th>1</th>\n",
              "      <td>2000/02</td>\n",
              "      <td>78.799329</td>\n",
              "    </tr>\n",
              "    <tr>\n",
              "      <th>2</th>\n",
              "      <td>2000/03</td>\n",
              "      <td>78.714380</td>\n",
              "    </tr>\n",
              "    <tr>\n",
              "      <th>3</th>\n",
              "      <td>2000/04</td>\n",
              "      <td>79.247601</td>\n",
              "    </tr>\n",
              "    <tr>\n",
              "      <th>4</th>\n",
              "      <td>2000/05</td>\n",
              "      <td>79.795178</td>\n",
              "    </tr>\n",
              "  </tbody>\n",
              "</table>\n",
              "</div>"
            ],
            "text/plain": [
              "  Periodos       IGAE\n",
              "0  2000/01  79.325572\n",
              "1  2000/02  78.799329\n",
              "2  2000/03  78.714380\n",
              "3  2000/04  79.247601\n",
              "4  2000/05  79.795178"
            ]
          },
          "execution_count": 4,
          "metadata": {},
          "output_type": "execute_result"
        }
      ],
      "source": [
        "igae.head()"
      ]
    },
    {
      "cell_type": "code",
      "execution_count": null,
      "id": "377be954",
      "metadata": {
        "id": "377be954"
      },
      "outputs": [],
      "source": [
        "# Convertir en variable de tiempo a Periodos\n",
        "igae['Periodos'] = pd.to_datetime(igae['Periodos'], format='%Y/%m')"
      ]
    },
    {
      "cell_type": "code",
      "execution_count": null,
      "id": "d8de936a",
      "metadata": {
        "id": "d8de936a",
        "outputId": "38b7b900-20ce-43e9-b58e-b119f997cd83"
      },
      "outputs": [
        {
          "data": {
            "text/html": [
              "<div>\n",
              "<style scoped>\n",
              "    .dataframe tbody tr th:only-of-type {\n",
              "        vertical-align: middle;\n",
              "    }\n",
              "\n",
              "    .dataframe tbody tr th {\n",
              "        vertical-align: top;\n",
              "    }\n",
              "\n",
              "    .dataframe thead th {\n",
              "        text-align: right;\n",
              "    }\n",
              "</style>\n",
              "<table border=\"1\" class=\"dataframe\">\n",
              "  <thead>\n",
              "    <tr style=\"text-align: right;\">\n",
              "      <th></th>\n",
              "      <th>Periodos</th>\n",
              "      <th>IGAE</th>\n",
              "    </tr>\n",
              "  </thead>\n",
              "  <tbody>\n",
              "    <tr>\n",
              "      <th>0</th>\n",
              "      <td>2000-01-01</td>\n",
              "      <td>79.325572</td>\n",
              "    </tr>\n",
              "    <tr>\n",
              "      <th>1</th>\n",
              "      <td>2000-02-01</td>\n",
              "      <td>78.799329</td>\n",
              "    </tr>\n",
              "  </tbody>\n",
              "</table>\n",
              "</div>"
            ],
            "text/plain": [
              "    Periodos       IGAE\n",
              "0 2000-01-01  79.325572\n",
              "1 2000-02-01  78.799329"
            ]
          },
          "execution_count": 6,
          "metadata": {},
          "output_type": "execute_result"
        }
      ],
      "source": [
        "igae.head(2)"
      ]
    },
    {
      "cell_type": "code",
      "execution_count": null,
      "id": "290c77b8",
      "metadata": {
        "id": "290c77b8"
      },
      "outputs": [],
      "source": [
        "# Asignarle frecuencia y debemos convertir en el index al tiempo\n",
        "igae = igae.set_index('Periodos')"
      ]
    },
    {
      "cell_type": "code",
      "execution_count": null,
      "id": "6828f614",
      "metadata": {
        "id": "6828f614"
      },
      "outputs": [],
      "source": [
        "# Asignar la frecuencia\n",
        "igae = igae.asfreq('MS')"
      ]
    },
    {
      "cell_type": "code",
      "execution_count": null,
      "id": "d1863f3f",
      "metadata": {
        "id": "d1863f3f",
        "outputId": "570271c7-2ecc-40e4-fe32-fee7e54ed7a0"
      },
      "outputs": [
        {
          "data": {
            "text/html": [
              "<div>\n",
              "<style scoped>\n",
              "    .dataframe tbody tr th:only-of-type {\n",
              "        vertical-align: middle;\n",
              "    }\n",
              "\n",
              "    .dataframe tbody tr th {\n",
              "        vertical-align: top;\n",
              "    }\n",
              "\n",
              "    .dataframe thead th {\n",
              "        text-align: right;\n",
              "    }\n",
              "</style>\n",
              "<table border=\"1\" class=\"dataframe\">\n",
              "  <thead>\n",
              "    <tr style=\"text-align: right;\">\n",
              "      <th></th>\n",
              "      <th>IGAE</th>\n",
              "    </tr>\n",
              "    <tr>\n",
              "      <th>Periodos</th>\n",
              "      <th></th>\n",
              "    </tr>\n",
              "  </thead>\n",
              "  <tbody>\n",
              "    <tr>\n",
              "      <th>2000-01-01</th>\n",
              "      <td>79.325572</td>\n",
              "    </tr>\n",
              "    <tr>\n",
              "      <th>2000-02-01</th>\n",
              "      <td>78.799329</td>\n",
              "    </tr>\n",
              "  </tbody>\n",
              "</table>\n",
              "</div>"
            ],
            "text/plain": [
              "                 IGAE\n",
              "Periodos             \n",
              "2000-01-01  79.325572\n",
              "2000-02-01  78.799329"
            ]
          },
          "execution_count": 8,
          "metadata": {},
          "output_type": "execute_result"
        }
      ],
      "source": [
        "igae.head(2)"
      ]
    },
    {
      "cell_type": "code",
      "execution_count": null,
      "id": "8ff70313",
      "metadata": {
        "id": "8ff70313",
        "outputId": "3bdd1345-ac8e-4acc-dce9-953642f77b3d"
      },
      "outputs": [
        {
          "data": {
            "text/plain": [
              "DatetimeIndex(['2000-01-01', '2000-02-01', '2000-03-01', '2000-04-01',\n",
              "               '2000-05-01', '2000-06-01', '2000-07-01', '2000-08-01',\n",
              "               '2000-09-01', '2000-10-01',\n",
              "               ...\n",
              "               '2022-05-01', '2022-06-01', '2022-07-01', '2022-08-01',\n",
              "               '2022-09-01', '2022-10-01', '2022-11-01', '2022-12-01',\n",
              "               '2023-01-01', '2023-02-01'],\n",
              "              dtype='datetime64[ns]', name='Periodos', length=278, freq='MS')"
            ]
          },
          "execution_count": 10,
          "metadata": {},
          "output_type": "execute_result"
        }
      ],
      "source": [
        "igae.index"
      ]
    },
    {
      "cell_type": "markdown",
      "id": "578d023b",
      "metadata": {
        "id": "578d023b"
      },
      "source": [
        "Una vez definida la variable de tiempo, convertida en index y asignada la frecuencia podemos usar análisis de series de tiempo en Python"
      ]
    },
    {
      "cell_type": "code",
      "execution_count": null,
      "id": "d05e8960",
      "metadata": {
        "id": "d05e8960",
        "outputId": "10d45fb6-0df3-4f1c-d675-1431abda51c1"
      },
      "outputs": [
        {
          "data": {
            "image/png": "[encoded data removed]",
            "text/plain": [
              "<Figure size 432x288 with 1 Axes>"
            ]
          },
          "metadata": {
            "needs_background": "light"
          },
          "output_type": "display_data"
        }
      ],
      "source": [
        "## En una serie de tiempo lo primero es graficar\n",
        "igae.plot()\n",
        "plt.title('Indicador Global de la Act. Económica IGAE')\n",
        "plt.xlabel('Meses')\n",
        "plt.show()"
      ]
    },
    {
      "cell_type": "markdown",
      "id": "606f1ffd",
      "metadata": {
        "id": "606f1ffd"
      },
      "source": [
        "El IGAE se parece a una caminata aleatoria con deriva, tiene tendencia positiva, también observamos los ciclos (crisis) de la serie "
      ]
    },
    {
      "cell_type": "markdown",
      "id": "f6bc1d5a",
      "metadata": {
        "id": "f6bc1d5a"
      },
      "source": [
        "1. Probar si la serie es estacionaria"
      ]
    },
    {
      "cell_type": "code",
      "execution_count": null,
      "id": "da0e9cc2",
      "metadata": {
        "id": "da0e9cc2",
        "outputId": "1a9f11c6-7f6c-4d69-b481-dbe0a7af3243"
      },
      "outputs": [
        {
          "name": "stdout",
          "output_type": "stream",
          "text": [
            "No rechazamos H0, Serie No Estacionaria\n"
          ]
        }
      ],
      "source": [
        "# Prueba de raíz unitaria\n",
        "## Prueba de Dickey-Fuller Aumentada\n",
        "## Ho: Serie no estacionaria\n",
        "## Ha: Serie estacionaria\n",
        "ADF_test1 = adfuller(igae['IGAE'])\n",
        "\n",
        "## Significancia 5%\n",
        "alpha = 0.05\n",
        "\n",
        "if ADF_test1[1] < alpha:\n",
        "    print('Rechaza H0, Serie Estacionaria')\n",
        "else:\n",
        "    print('No rechazamos H0, Serie No Estacionaria')"
      ]
    },
    {
      "cell_type": "markdown",
      "id": "28d91c59",
      "metadata": {
        "id": "28d91c59"
      },
      "source": [
        "Para convertir una serie en estacionaria tenemos aplicar primeras diferencias\n",
        "\n",
        "$\\Delta Y_t = Y_t - Y_{t-1} $"
      ]
    },
    {
      "cell_type": "code",
      "execution_count": null,
      "id": "cee11b70",
      "metadata": {
        "id": "cee11b70"
      },
      "outputs": [],
      "source": [
        "# Calcular primeras diferencias IGAE\n",
        "igae['igae_diferenciado'] = igae['IGAE'].diff()"
      ]
    },
    {
      "cell_type": "code",
      "execution_count": null,
      "id": "5ff30ca4",
      "metadata": {
        "id": "5ff30ca4",
        "outputId": "c0adb68a-52ed-4acc-e37c-0610faaef7be"
      },
      "outputs": [
        {
          "data": {
            "text/html": [
              "<div>\n",
              "<style scoped>\n",
              "    .dataframe tbody tr th:only-of-type {\n",
              "        vertical-align: middle;\n",
              "    }\n",
              "\n",
              "    .dataframe tbody tr th {\n",
              "        vertical-align: top;\n",
              "    }\n",
              "\n",
              "    .dataframe thead th {\n",
              "        text-align: right;\n",
              "    }\n",
              "</style>\n",
              "<table border=\"1\" class=\"dataframe\">\n",
              "  <thead>\n",
              "    <tr style=\"text-align: right;\">\n",
              "      <th></th>\n",
              "      <th>IGAE</th>\n",
              "      <th>igae_diferenciado</th>\n",
              "    </tr>\n",
              "    <tr>\n",
              "      <th>Periodos</th>\n",
              "      <th></th>\n",
              "      <th></th>\n",
              "    </tr>\n",
              "  </thead>\n",
              "  <tbody>\n",
              "    <tr>\n",
              "      <th>2000-01-01</th>\n",
              "      <td>79.325572</td>\n",
              "      <td>NaN</td>\n",
              "    </tr>\n",
              "    <tr>\n",
              "      <th>2000-02-01</th>\n",
              "      <td>78.799329</td>\n",
              "      <td>-0.526243</td>\n",
              "    </tr>\n",
              "    <tr>\n",
              "      <th>2000-03-01</th>\n",
              "      <td>78.714380</td>\n",
              "      <td>-0.084950</td>\n",
              "    </tr>\n",
              "    <tr>\n",
              "      <th>2000-04-01</th>\n",
              "      <td>79.247601</td>\n",
              "      <td>0.533221</td>\n",
              "    </tr>\n",
              "    <tr>\n",
              "      <th>2000-05-01</th>\n",
              "      <td>79.795178</td>\n",
              "      <td>0.547577</td>\n",
              "    </tr>\n",
              "  </tbody>\n",
              "</table>\n",
              "</div>"
            ],
            "text/plain": [
              "                 IGAE  igae_diferenciado\n",
              "Periodos                                \n",
              "2000-01-01  79.325572                NaN\n",
              "2000-02-01  78.799329          -0.526243\n",
              "2000-03-01  78.714380          -0.084950\n",
              "2000-04-01  79.247601           0.533221\n",
              "2000-05-01  79.795178           0.547577"
            ]
          },
          "execution_count": 17,
          "metadata": {},
          "output_type": "execute_result"
        }
      ],
      "source": [
        "igae.head()"
      ]
    },
    {
      "cell_type": "code",
      "execution_count": null,
      "id": "0937366d",
      "metadata": {
        "id": "0937366d",
        "outputId": "38206264-86ea-4278-ab76-e16d42d85bf3"
      },
      "outputs": [
        {
          "data": {
            "image/png": "[encoded data removed]",
            "text/plain": [
              "<Figure size 432x288 with 1 Axes>"
            ]
          },
          "metadata": {
            "needs_background": "light"
          },
          "output_type": "display_data"
        }
      ],
      "source": [
        "## Graficar el IGAE diferenciado\n",
        "igae['igae_diferenciado'].plot()\n",
        "plt.title('Primeras diferencias del IGAE')\n",
        "plt.xlabel('Meses')\n",
        "plt.show()"
      ]
    },
    {
      "cell_type": "code",
      "execution_count": null,
      "id": "039fc13e",
      "metadata": {
        "scrolled": true,
        "id": "039fc13e",
        "outputId": "74fe93aa-5c86-4d31-9622-fd41b5e880f4"
      },
      "outputs": [
        {
          "name": "stdout",
          "output_type": "stream",
          "text": [
            "Rechaza H0, Serie Estacionaria\n"
          ]
        }
      ],
      "source": [
        "## Vamos a corroborar que las primeras diferencias del IGAE sean un proceso estacionario\n",
        "ADF_test2 = adfuller(igae['igae_diferenciado'].dropna())\n",
        "\n",
        "if ADF_test2[1] < alpha:\n",
        "    print('Rechaza H0, Serie Estacionaria')\n",
        "else:\n",
        "    print('No rechazamos H0, Serie No Estacionaria')"
      ]
    },
    {
      "cell_type": "markdown",
      "id": "e30f3935",
      "metadata": {
        "id": "e30f3935"
      },
      "source": [
        "Si la serie es estacionaria, lo siguiente es identificar que tipo de proceso estacionario es, para eso nos auxiliamos de ACF y PACF"
      ]
    },
    {
      "cell_type": "code",
      "execution_count": null,
      "id": "1761a933",
      "metadata": {
        "id": "1761a933",
        "outputId": "b3172fe1-9710-485c-aa51-71e95df667d8"
      },
      "outputs": [
        {
          "name": "stderr",
          "output_type": "stream",
          "text": [
            "C:\\Users\\Lenovo\\anaconda3\\lib\\site-packages\\statsmodels\\graphics\\tsaplots.py:348: FutureWarning: The default method 'yw' can produce PACF values outside of the [-1,1] interval. After 0.13, the default will change tounadjusted Yule-Walker ('ywm'). You can use this method now by setting method='ywm'.\n",
            "  warnings.warn(\n"
          ]
        },
        {
          "data": {
            "image/png": "[encoded data removed]",
            "text/plain": [
              "<Figure size 864x288 with 2 Axes>"
            ]
          },
          "metadata": {
            "needs_background": "light"
          },
          "output_type": "display_data"
        }
      ],
      "source": [
        "ig, ax = plt.subplots(1, 2, figsize=(12,4))\n",
        "\n",
        "plot_acf(igae['igae_diferenciado'].dropna(), zero=False, lags=40, ax=ax[0],title=\"Función de Autocorrelación\")\n",
        "ax[0].set_ylim(-1,1)\n",
        "plot_pacf(igae['igae_diferenciado'].dropna(), zero=False, lags=40, ax=ax[1], title=\"Función de Autocorrelación Parcial\")\n",
        "ax[1].set_ylim(-1,1)\n",
        "plt.show()"
      ]
    },
    {
      "cell_type": "markdown",
      "id": "b1020dfb",
      "metadata": {
        "id": "b1020dfb"
      },
      "source": [
        "ACF te da el grado de MA(q)\n",
        "\n",
        "PACF te da el grado del AR(q)"
      ]
    },
    {
      "cell_type": "markdown",
      "id": "e8cb949b",
      "metadata": {
        "id": "e8cb949b"
      },
      "source": [
        "Vamos a suponer que estamops ante un AR(2)"
      ]
    },
    {
      "cell_type": "markdown",
      "id": "718d372a",
      "metadata": {
        "id": "718d372a"
      },
      "source": [
        "ARIMA (p, I, q) \n",
        "\n",
        "p es el orden del AR\n",
        "\n",
        "q es el orden MA\n",
        "\n",
        "I es el orden de integración de la serie de tiempo (cuantas veces se diferenció la serie para hacerla estacionaria)"
      ]
    },
    {
      "cell_type": "markdown",
      "id": "7a361494",
      "metadata": {
        "id": "7a361494"
      },
      "source": [
        "ARIMA (p, I=0, q) = ARMA(p, q)\n",
        "\n",
        "ARMA (p=0, 1) = MA(1)\n",
        "\n",
        "ARMA (p, q=0) = AR(p)"
      ]
    },
    {
      "cell_type": "code",
      "execution_count": null,
      "id": "0c194f7f",
      "metadata": {
        "id": "0c194f7f",
        "outputId": "279f565c-178f-4050-ba12-93518454760f"
      },
      "outputs": [
        {
          "name": "stdout",
          "output_type": "stream",
          "text": [
            "                               SARIMAX Results                                \n",
            "==============================================================================\n",
            "Dep. Variable:      igae_diferenciado   No. Observations:                  277\n",
            "Model:                 ARIMA(2, 0, 0)   Log Likelihood                -484.350\n",
            "Date:                Wed, 03 May 2023   AIC                            976.699\n",
            "Time:                        15:58:20   BIC                            991.195\n",
            "Sample:                    02-01-2000   HQIC                           982.516\n",
            "                         - 02-01-2023                                         \n",
            "Covariance Type:                  opg                                         \n",
            "==============================================================================\n",
            "                 coef    std err          z      P>|z|      [0.025      0.975]\n",
            "------------------------------------------------------------------------------\n",
            "const          0.1253      0.156      0.802      0.423      -0.181       0.432\n",
            "ar.L1          0.2741      0.042      6.485      0.000       0.191       0.357\n",
            "ar.L2         -0.2301      0.023    -10.171      0.000      -0.274      -0.186\n",
            "sigma2         1.9322      0.039     49.383      0.000       1.855       2.009\n",
            "===================================================================================\n",
            "Ljung-Box (L1) (Q):                   0.13   Jarque-Bera (JB):            182557.25\n",
            "Prob(Q):                              0.72   Prob(JB):                         0.00\n",
            "Heteroskedasticity (H):              21.79   Skew:                            -9.04\n",
            "Prob(H) (two-sided):                  0.00   Kurtosis:                       127.46\n",
            "===================================================================================\n",
            "\n",
            "Warnings:\n",
            "[1] Covariance matrix calculated using the outer product of gradients (complex-step).\n"
          ]
        }
      ],
      "source": [
        "## Vamos a suponer que el IGAE diferenciado es AR(2)\n",
        "## AR(2) = ARMA(2,0) = ARIMA(2, I=0, 0)\n",
        "modelo = ARIMA(igae['igae_diferenciado'].dropna(), order=(2,0,0))\n",
        "resultado = modelo.fit()\n",
        "print(resultado.summary())"
      ]
    },
    {
      "cell_type": "markdown",
      "id": "55b64fbe",
      "metadata": {
        "id": "55b64fbe"
      },
      "source": [
        "El modelo estimado es:\n",
        "\n",
        "$ Y_t = 0.2741 Y_{t-1} - 0.2301 Y_{t-2} + \\varepsilon_t $"
      ]
    },
    {
      "cell_type": "markdown",
      "id": "ccc0b509",
      "metadata": {
        "id": "ccc0b509"
      },
      "source": [
        "El AIC (Criterio de Akaike), el BIC (Criterio Bayesiano de Información) y el HQIC, son medidas de bondad de ajuste del modelo. Se utilizan para comparar modelos similares (del mismo tipo con la misma variable dependiente) y la regla es que el mejor modelo es el que tiene el menor valor de el estadístico elegido. Tradicionalmente se utiliza el AIC."
      ]
    },
    {
      "cell_type": "code",
      "execution_count": null,
      "id": "a6549dc6",
      "metadata": {
        "id": "a6549dc6",
        "outputId": "51d91774-cdda-4ef5-b653-4615a3da0994"
      },
      "outputs": [
        {
          "name": "stdout",
          "output_type": "stream",
          "text": [
            "                               SARIMAX Results                                \n",
            "==============================================================================\n",
            "Dep. Variable:      igae_diferenciado   No. Observations:                  277\n",
            "Model:                 ARIMA(3, 0, 0)   Log Likelihood                -483.037\n",
            "Date:                Wed, 03 May 2023   AIC                            976.075\n",
            "Time:                        16:07:31   BIC                            994.195\n",
            "Sample:                    02-01-2000   HQIC                           983.345\n",
            "                         - 02-01-2023                                         \n",
            "Covariance Type:                  opg                                         \n",
            "==============================================================================\n",
            "                 coef    std err          z      P>|z|      [0.025      0.975]\n",
            "------------------------------------------------------------------------------\n",
            "const          0.1252      0.149      0.842      0.400      -0.166       0.416\n",
            "ar.L1          0.2516      0.060      4.185      0.000       0.134       0.369\n",
            "ar.L2         -0.2034      0.026     -7.970      0.000      -0.253      -0.153\n",
            "ar.L3         -0.0967      0.053     -1.833      0.067      -0.200       0.007\n",
            "sigma2         1.9138      0.043     44.909      0.000       1.830       1.997\n",
            "===================================================================================\n",
            "Ljung-Box (L1) (Q):                   0.00   Jarque-Bera (JB):            181684.57\n",
            "Prob(Q):                              0.95   Prob(JB):                         0.00\n",
            "Heteroskedasticity (H):              21.37   Skew:                            -8.98\n",
            "Prob(H) (two-sided):                  0.00   Kurtosis:                       127.17\n",
            "===================================================================================\n",
            "\n",
            "Warnings:\n",
            "[1] Covariance matrix calculated using the outer product of gradients (complex-step).\n"
          ]
        }
      ],
      "source": [
        "# Suponer que en realidad el IGAE diferenciado es AR(3)\n",
        "modelo2 = ARIMA(igae['igae_diferenciado'].dropna(), order=(3,0,0))\n",
        "resultado2 =modelo2.fit()\n",
        "print(resultado2.summary())"
      ]
    },
    {
      "cell_type": "code",
      "execution_count": null,
      "id": "f2d55923",
      "metadata": {
        "id": "f2d55923",
        "outputId": "fa480251-d4c8-4d1f-cc36-fc38f9cedab7"
      },
      "outputs": [
        {
          "name": "stdout",
          "output_type": "stream",
          "text": [
            "AR: 0, MA: 0\n",
            "AR: 0, MA: 1\n",
            "AR: 0, MA: 2\n",
            "AR: 0, MA: 3\n"
          ]
        },
        {
          "name": "stderr",
          "output_type": "stream",
          "text": [
            "C:\\Users\\Lenovo\\anaconda3\\lib\\site-packages\\statsmodels\\tsa\\statespace\\sarimax.py:978: UserWarning: Non-invertible starting MA parameters found. Using zeros as starting parameters.\n",
            "  warn('Non-invertible starting MA parameters found.'\n"
          ]
        },
        {
          "name": "stdout",
          "output_type": "stream",
          "text": [
            "AR: 0, MA: 4\n"
          ]
        },
        {
          "name": "stderr",
          "output_type": "stream",
          "text": [
            "C:\\Users\\Lenovo\\anaconda3\\lib\\site-packages\\statsmodels\\tsa\\statespace\\sarimax.py:978: UserWarning: Non-invertible starting MA parameters found. Using zeros as starting parameters.\n",
            "  warn('Non-invertible starting MA parameters found.'\n"
          ]
        },
        {
          "name": "stdout",
          "output_type": "stream",
          "text": [
            "AR: 0, MA: 5\n"
          ]
        },
        {
          "name": "stderr",
          "output_type": "stream",
          "text": [
            "C:\\Users\\Lenovo\\anaconda3\\lib\\site-packages\\statsmodels\\tsa\\statespace\\sarimax.py:978: UserWarning: Non-invertible starting MA parameters found. Using zeros as starting parameters.\n",
            "  warn('Non-invertible starting MA parameters found.'\n"
          ]
        },
        {
          "name": "stdout",
          "output_type": "stream",
          "text": [
            "AR: 0, MA: 6\n"
          ]
        },
        {
          "name": "stderr",
          "output_type": "stream",
          "text": [
            "C:\\Users\\Lenovo\\anaconda3\\lib\\site-packages\\statsmodels\\tsa\\statespace\\sarimax.py:978: UserWarning: Non-invertible starting MA parameters found. Using zeros as starting parameters.\n",
            "  warn('Non-invertible starting MA parameters found.'\n"
          ]
        },
        {
          "name": "stdout",
          "output_type": "stream",
          "text": [
            "AR: 1, MA: 0\n",
            "AR: 1, MA: 1\n"
          ]
        },
        {
          "name": "stderr",
          "output_type": "stream",
          "text": [
            "C:\\Users\\Lenovo\\anaconda3\\lib\\site-packages\\statsmodels\\tsa\\statespace\\sarimax.py:978: UserWarning: Non-invertible starting MA parameters found. Using zeros as starting parameters.\n",
            "  warn('Non-invertible starting MA parameters found.'\n"
          ]
        },
        {
          "name": "stdout",
          "output_type": "stream",
          "text": [
            "AR: 1, MA: 2\n",
            "AR: 1, MA: 3\n",
            "AR: 1, MA: 4\n"
          ]
        },
        {
          "name": "stderr",
          "output_type": "stream",
          "text": [
            "C:\\Users\\Lenovo\\anaconda3\\lib\\site-packages\\statsmodels\\tsa\\statespace\\sarimax.py:978: UserWarning: Non-invertible starting MA parameters found. Using zeros as starting parameters.\n",
            "  warn('Non-invertible starting MA parameters found.'\n",
            "C:\\Users\\Lenovo\\anaconda3\\lib\\site-packages\\statsmodels\\base\\model.py:604: ConvergenceWarning: Maximum Likelihood optimization failed to converge. Check mle_retvals\n",
            "  warnings.warn(\"Maximum Likelihood optimization failed to \"\n",
            "C:\\Users\\Lenovo\\anaconda3\\lib\\site-packages\\statsmodels\\tsa\\statespace\\sarimax.py:978: UserWarning: Non-invertible starting MA parameters found. Using zeros as starting parameters.\n",
            "  warn('Non-invertible starting MA parameters found.'\n"
          ]
        },
        {
          "name": "stdout",
          "output_type": "stream",
          "text": [
            "AR: 1, MA: 5\n"
          ]
        },
        {
          "name": "stderr",
          "output_type": "stream",
          "text": [
            "C:\\Users\\Lenovo\\anaconda3\\lib\\site-packages\\statsmodels\\base\\model.py:604: ConvergenceWarning: Maximum Likelihood optimization failed to converge. Check mle_retvals\n",
            "  warnings.warn(\"Maximum Likelihood optimization failed to \"\n",
            "C:\\Users\\Lenovo\\anaconda3\\lib\\site-packages\\statsmodels\\tsa\\statespace\\sarimax.py:978: UserWarning: Non-invertible starting MA parameters found. Using zeros as starting parameters.\n",
            "  warn('Non-invertible starting MA parameters found.'\n"
          ]
        },
        {
          "name": "stdout",
          "output_type": "stream",
          "text": [
            "AR: 1, MA: 6\n"
          ]
        },
        {
          "name": "stderr",
          "output_type": "stream",
          "text": [
            "C:\\Users\\Lenovo\\anaconda3\\lib\\site-packages\\statsmodels\\base\\model.py:604: ConvergenceWarning: Maximum Likelihood optimization failed to converge. Check mle_retvals\n",
            "  warnings.warn(\"Maximum Likelihood optimization failed to \"\n"
          ]
        },
        {
          "name": "stdout",
          "output_type": "stream",
          "text": [
            "AR: 2, MA: 0\n",
            "AR: 2, MA: 1\n",
            "AR: 2, MA: 2\n",
            "AR: 2, MA: 3\n"
          ]
        },
        {
          "name": "stderr",
          "output_type": "stream",
          "text": [
            "C:\\Users\\Lenovo\\anaconda3\\lib\\site-packages\\statsmodels\\base\\model.py:604: ConvergenceWarning: Maximum Likelihood optimization failed to converge. Check mle_retvals\n",
            "  warnings.warn(\"Maximum Likelihood optimization failed to \"\n",
            "C:\\Users\\Lenovo\\anaconda3\\lib\\site-packages\\statsmodels\\tsa\\statespace\\sarimax.py:978: UserWarning: Non-invertible starting MA parameters found. Using zeros as starting parameters.\n",
            "  warn('Non-invertible starting MA parameters found.'\n"
          ]
        },
        {
          "name": "stdout",
          "output_type": "stream",
          "text": [
            "AR: 2, MA: 4\n"
          ]
        },
        {
          "name": "stderr",
          "output_type": "stream",
          "text": [
            "C:\\Users\\Lenovo\\anaconda3\\lib\\site-packages\\statsmodels\\base\\model.py:604: ConvergenceWarning: Maximum Likelihood optimization failed to converge. Check mle_retvals\n",
            "  warnings.warn(\"Maximum Likelihood optimization failed to \"\n",
            "C:\\Users\\Lenovo\\anaconda3\\lib\\site-packages\\statsmodels\\tsa\\statespace\\sarimax.py:978: UserWarning: Non-invertible starting MA parameters found. Using zeros as starting parameters.\n",
            "  warn('Non-invertible starting MA parameters found.'\n"
          ]
        },
        {
          "name": "stdout",
          "output_type": "stream",
          "text": [
            "AR: 2, MA: 5\n"
          ]
        },
        {
          "name": "stderr",
          "output_type": "stream",
          "text": [
            "C:\\Users\\Lenovo\\anaconda3\\lib\\site-packages\\statsmodels\\base\\model.py:604: ConvergenceWarning: Maximum Likelihood optimization failed to converge. Check mle_retvals\n",
            "  warnings.warn(\"Maximum Likelihood optimization failed to \"\n",
            "C:\\Users\\Lenovo\\anaconda3\\lib\\site-packages\\statsmodels\\tsa\\statespace\\sarimax.py:978: UserWarning: Non-invertible starting MA parameters found. Using zeros as starting parameters.\n",
            "  warn('Non-invertible starting MA parameters found.'\n"
          ]
        },
        {
          "name": "stdout",
          "output_type": "stream",
          "text": [
            "AR: 2, MA: 6\n"
          ]
        },
        {
          "name": "stderr",
          "output_type": "stream",
          "text": [
            "C:\\Users\\Lenovo\\anaconda3\\lib\\site-packages\\statsmodels\\base\\model.py:604: ConvergenceWarning: Maximum Likelihood optimization failed to converge. Check mle_retvals\n",
            "  warnings.warn(\"Maximum Likelihood optimization failed to \"\n"
          ]
        },
        {
          "name": "stdout",
          "output_type": "stream",
          "text": [
            "AR: 3, MA: 0\n",
            "AR: 3, MA: 1\n",
            "AR: 3, MA: 2\n",
            "AR: 3, MA: 3\n"
          ]
        },
        {
          "name": "stderr",
          "output_type": "stream",
          "text": [
            "C:\\Users\\Lenovo\\anaconda3\\lib\\site-packages\\statsmodels\\tsa\\statespace\\sarimax.py:966: UserWarning: Non-stationary starting autoregressive parameters found. Using zeros as starting parameters.\n",
            "  warn('Non-stationary starting autoregressive parameters'\n",
            "C:\\Users\\Lenovo\\anaconda3\\lib\\site-packages\\statsmodels\\tsa\\statespace\\sarimax.py:978: UserWarning: Non-invertible starting MA parameters found. Using zeros as starting parameters.\n",
            "  warn('Non-invertible starting MA parameters found.'\n",
            "C:\\Users\\Lenovo\\anaconda3\\lib\\site-packages\\statsmodels\\base\\model.py:604: ConvergenceWarning: Maximum Likelihood optimization failed to converge. Check mle_retvals\n",
            "  warnings.warn(\"Maximum Likelihood optimization failed to \"\n"
          ]
        },
        {
          "name": "stdout",
          "output_type": "stream",
          "text": [
            "AR: 3, MA: 4\n"
          ]
        },
        {
          "name": "stderr",
          "output_type": "stream",
          "text": [
            "C:\\Users\\Lenovo\\anaconda3\\lib\\site-packages\\statsmodels\\base\\model.py:604: ConvergenceWarning: Maximum Likelihood optimization failed to converge. Check mle_retvals\n",
            "  warnings.warn(\"Maximum Likelihood optimization failed to \"\n",
            "C:\\Users\\Lenovo\\anaconda3\\lib\\site-packages\\statsmodels\\tsa\\statespace\\sarimax.py:966: UserWarning: Non-stationary starting autoregressive parameters found. Using zeros as starting parameters.\n",
            "  warn('Non-stationary starting autoregressive parameters'\n",
            "C:\\Users\\Lenovo\\anaconda3\\lib\\site-packages\\statsmodels\\tsa\\statespace\\sarimax.py:978: UserWarning: Non-invertible starting MA parameters found. Using zeros as starting parameters.\n",
            "  warn('Non-invertible starting MA parameters found.'\n"
          ]
        },
        {
          "name": "stdout",
          "output_type": "stream",
          "text": [
            "AR: 3, MA: 5\n"
          ]
        },
        {
          "name": "stderr",
          "output_type": "stream",
          "text": [
            "C:\\Users\\Lenovo\\anaconda3\\lib\\site-packages\\statsmodels\\base\\model.py:604: ConvergenceWarning: Maximum Likelihood optimization failed to converge. Check mle_retvals\n",
            "  warnings.warn(\"Maximum Likelihood optimization failed to \"\n",
            "C:\\Users\\Lenovo\\anaconda3\\lib\\site-packages\\statsmodels\\tsa\\statespace\\sarimax.py:978: UserWarning: Non-invertible starting MA parameters found. Using zeros as starting parameters.\n",
            "  warn('Non-invertible starting MA parameters found.'\n"
          ]
        },
        {
          "name": "stdout",
          "output_type": "stream",
          "text": [
            "AR: 3, MA: 6\n"
          ]
        },
        {
          "name": "stderr",
          "output_type": "stream",
          "text": [
            "C:\\Users\\Lenovo\\anaconda3\\lib\\site-packages\\statsmodels\\base\\model.py:604: ConvergenceWarning: Maximum Likelihood optimization failed to converge. Check mle_retvals\n",
            "  warnings.warn(\"Maximum Likelihood optimization failed to \"\n"
          ]
        },
        {
          "name": "stdout",
          "output_type": "stream",
          "text": [
            "AR: 4, MA: 0\n",
            "AR: 4, MA: 1\n",
            "AR: 4, MA: 2\n",
            "AR: 4, MA: 3\n"
          ]
        },
        {
          "name": "stderr",
          "output_type": "stream",
          "text": [
            "C:\\Users\\Lenovo\\anaconda3\\lib\\site-packages\\statsmodels\\tsa\\statespace\\sarimax.py:966: UserWarning: Non-stationary starting autoregressive parameters found. Using zeros as starting parameters.\n",
            "  warn('Non-stationary starting autoregressive parameters'\n",
            "C:\\Users\\Lenovo\\anaconda3\\lib\\site-packages\\statsmodels\\tsa\\statespace\\sarimax.py:978: UserWarning: Non-invertible starting MA parameters found. Using zeros as starting parameters.\n",
            "  warn('Non-invertible starting MA parameters found.'\n",
            "C:\\Users\\Lenovo\\anaconda3\\lib\\site-packages\\statsmodels\\base\\model.py:604: ConvergenceWarning: Maximum Likelihood optimization failed to converge. Check mle_retvals\n",
            "  warnings.warn(\"Maximum Likelihood optimization failed to \"\n",
            "C:\\Users\\Lenovo\\anaconda3\\lib\\site-packages\\statsmodels\\tsa\\statespace\\sarimax.py:978: UserWarning: Non-invertible starting MA parameters found. Using zeros as starting parameters.\n",
            "  warn('Non-invertible starting MA parameters found.'\n"
          ]
        },
        {
          "name": "stdout",
          "output_type": "stream",
          "text": [
            "AR: 4, MA: 4\n"
          ]
        },
        {
          "name": "stderr",
          "output_type": "stream",
          "text": [
            "C:\\Users\\Lenovo\\anaconda3\\lib\\site-packages\\statsmodels\\base\\model.py:604: ConvergenceWarning: Maximum Likelihood optimization failed to converge. Check mle_retvals\n",
            "  warnings.warn(\"Maximum Likelihood optimization failed to \"\n",
            "C:\\Users\\Lenovo\\anaconda3\\lib\\site-packages\\statsmodels\\tsa\\statespace\\sarimax.py:966: UserWarning: Non-stationary starting autoregressive parameters found. Using zeros as starting parameters.\n",
            "  warn('Non-stationary starting autoregressive parameters'\n",
            "C:\\Users\\Lenovo\\anaconda3\\lib\\site-packages\\statsmodels\\tsa\\statespace\\sarimax.py:978: UserWarning: Non-invertible starting MA parameters found. Using zeros as starting parameters.\n",
            "  warn('Non-invertible starting MA parameters found.'\n"
          ]
        },
        {
          "name": "stdout",
          "output_type": "stream",
          "text": [
            "AR: 4, MA: 5\n"
          ]
        },
        {
          "name": "stderr",
          "output_type": "stream",
          "text": [
            "C:\\Users\\Lenovo\\anaconda3\\lib\\site-packages\\statsmodels\\base\\model.py:604: ConvergenceWarning: Maximum Likelihood optimization failed to converge. Check mle_retvals\n",
            "  warnings.warn(\"Maximum Likelihood optimization failed to \"\n",
            "C:\\Users\\Lenovo\\anaconda3\\lib\\site-packages\\statsmodels\\tsa\\statespace\\sarimax.py:978: UserWarning: Non-invertible starting MA parameters found. Using zeros as starting parameters.\n",
            "  warn('Non-invertible starting MA parameters found.'\n"
          ]
        },
        {
          "name": "stdout",
          "output_type": "stream",
          "text": [
            "AR: 4, MA: 6\n"
          ]
        },
        {
          "name": "stderr",
          "output_type": "stream",
          "text": [
            "C:\\Users\\Lenovo\\anaconda3\\lib\\site-packages\\statsmodels\\base\\model.py:604: ConvergenceWarning: Maximum Likelihood optimization failed to converge. Check mle_retvals\n",
            "  warnings.warn(\"Maximum Likelihood optimization failed to \"\n"
          ]
        },
        {
          "name": "stdout",
          "output_type": "stream",
          "text": [
            "AR: 5, MA: 0\n",
            "AR: 5, MA: 1\n",
            "AR: 5, MA: 2\n",
            "AR: 5, MA: 3\n"
          ]
        },
        {
          "name": "stderr",
          "output_type": "stream",
          "text": [
            "C:\\Users\\Lenovo\\anaconda3\\lib\\site-packages\\statsmodels\\tsa\\statespace\\sarimax.py:966: UserWarning: Non-stationary starting autoregressive parameters found. Using zeros as starting parameters.\n",
            "  warn('Non-stationary starting autoregressive parameters'\n",
            "C:\\Users\\Lenovo\\anaconda3\\lib\\site-packages\\statsmodels\\tsa\\statespace\\sarimax.py:978: UserWarning: Non-invertible starting MA parameters found. Using zeros as starting parameters.\n",
            "  warn('Non-invertible starting MA parameters found.'\n",
            "C:\\Users\\Lenovo\\anaconda3\\lib\\site-packages\\statsmodels\\base\\model.py:604: ConvergenceWarning: Maximum Likelihood optimization failed to converge. Check mle_retvals\n",
            "  warnings.warn(\"Maximum Likelihood optimization failed to \"\n"
          ]
        },
        {
          "name": "stdout",
          "output_type": "stream",
          "text": [
            "AR: 5, MA: 4\n"
          ]
        },
        {
          "name": "stderr",
          "output_type": "stream",
          "text": [
            "C:\\Users\\Lenovo\\anaconda3\\lib\\site-packages\\statsmodels\\base\\model.py:604: ConvergenceWarning: Maximum Likelihood optimization failed to converge. Check mle_retvals\n",
            "  warnings.warn(\"Maximum Likelihood optimization failed to \"\n",
            "C:\\Users\\Lenovo\\anaconda3\\lib\\site-packages\\statsmodels\\tsa\\statespace\\sarimax.py:966: UserWarning: Non-stationary starting autoregressive parameters found. Using zeros as starting parameters.\n",
            "  warn('Non-stationary starting autoregressive parameters'\n",
            "C:\\Users\\Lenovo\\anaconda3\\lib\\site-packages\\statsmodels\\tsa\\statespace\\sarimax.py:978: UserWarning: Non-invertible starting MA parameters found. Using zeros as starting parameters.\n",
            "  warn('Non-invertible starting MA parameters found.'\n"
          ]
        },
        {
          "name": "stdout",
          "output_type": "stream",
          "text": [
            "AR: 5, MA: 5\n"
          ]
        },
        {
          "name": "stderr",
          "output_type": "stream",
          "text": [
            "C:\\Users\\Lenovo\\anaconda3\\lib\\site-packages\\statsmodels\\base\\model.py:604: ConvergenceWarning: Maximum Likelihood optimization failed to converge. Check mle_retvals\n",
            "  warnings.warn(\"Maximum Likelihood optimization failed to \"\n",
            "C:\\Users\\Lenovo\\anaconda3\\lib\\site-packages\\statsmodels\\tsa\\statespace\\sarimax.py:978: UserWarning: Non-invertible starting MA parameters found. Using zeros as starting parameters.\n",
            "  warn('Non-invertible starting MA parameters found.'\n"
          ]
        },
        {
          "name": "stdout",
          "output_type": "stream",
          "text": [
            "AR: 5, MA: 6\n"
          ]
        },
        {
          "name": "stderr",
          "output_type": "stream",
          "text": [
            "C:\\Users\\Lenovo\\anaconda3\\lib\\site-packages\\statsmodels\\base\\model.py:604: ConvergenceWarning: Maximum Likelihood optimization failed to converge. Check mle_retvals\n",
            "  warnings.warn(\"Maximum Likelihood optimization failed to \"\n"
          ]
        },
        {
          "name": "stdout",
          "output_type": "stream",
          "text": [
            "AR: 6, MA: 0\n",
            "AR: 6, MA: 1\n",
            "AR: 6, MA: 2\n"
          ]
        },
        {
          "name": "stderr",
          "output_type": "stream",
          "text": [
            "C:\\Users\\Lenovo\\anaconda3\\lib\\site-packages\\statsmodels\\base\\model.py:604: ConvergenceWarning: Maximum Likelihood optimization failed to converge. Check mle_retvals\n",
            "  warnings.warn(\"Maximum Likelihood optimization failed to \"\n",
            "C:\\Users\\Lenovo\\anaconda3\\lib\\site-packages\\statsmodels\\tsa\\statespace\\sarimax.py:978: UserWarning: Non-invertible starting MA parameters found. Using zeros as starting parameters.\n",
            "  warn('Non-invertible starting MA parameters found.'\n"
          ]
        },
        {
          "name": "stdout",
          "output_type": "stream",
          "text": [
            "AR: 6, MA: 3\n",
            "AR: 6, MA: 4\n"
          ]
        },
        {
          "name": "stderr",
          "output_type": "stream",
          "text": [
            "C:\\Users\\Lenovo\\anaconda3\\lib\\site-packages\\statsmodels\\tsa\\statespace\\sarimax.py:978: UserWarning: Non-invertible starting MA parameters found. Using zeros as starting parameters.\n",
            "  warn('Non-invertible starting MA parameters found.'\n",
            "C:\\Users\\Lenovo\\anaconda3\\lib\\site-packages\\statsmodels\\base\\model.py:604: ConvergenceWarning: Maximum Likelihood optimization failed to converge. Check mle_retvals\n",
            "  warnings.warn(\"Maximum Likelihood optimization failed to \"\n",
            "C:\\Users\\Lenovo\\anaconda3\\lib\\site-packages\\statsmodels\\tsa\\statespace\\sarimax.py:966: UserWarning: Non-stationary starting autoregressive parameters found. Using zeros as starting parameters.\n",
            "  warn('Non-stationary starting autoregressive parameters'\n",
            "C:\\Users\\Lenovo\\anaconda3\\lib\\site-packages\\statsmodels\\tsa\\statespace\\sarimax.py:978: UserWarning: Non-invertible starting MA parameters found. Using zeros as starting parameters.\n",
            "  warn('Non-invertible starting MA parameters found.'\n"
          ]
        },
        {
          "name": "stdout",
          "output_type": "stream",
          "text": [
            "AR: 6, MA: 5\n"
          ]
        },
        {
          "name": "stderr",
          "output_type": "stream",
          "text": [
            "C:\\Users\\Lenovo\\anaconda3\\lib\\site-packages\\statsmodels\\base\\model.py:604: ConvergenceWarning: Maximum Likelihood optimization failed to converge. Check mle_retvals\n",
            "  warnings.warn(\"Maximum Likelihood optimization failed to \"\n",
            "C:\\Users\\Lenovo\\anaconda3\\lib\\site-packages\\statsmodels\\tsa\\statespace\\sarimax.py:978: UserWarning: Non-invertible starting MA parameters found. Using zeros as starting parameters.\n",
            "  warn('Non-invertible starting MA parameters found.'\n"
          ]
        },
        {
          "name": "stdout",
          "output_type": "stream",
          "text": [
            "AR: 6, MA: 6\n"
          ]
        },
        {
          "name": "stderr",
          "output_type": "stream",
          "text": [
            "C:\\Users\\Lenovo\\anaconda3\\lib\\site-packages\\statsmodels\\base\\model.py:604: ConvergenceWarning: Maximum Likelihood optimization failed to converge. Check mle_retvals\n",
            "  warnings.warn(\"Maximum Likelihood optimization failed to \"\n"
          ]
        }
      ],
      "source": [
        "# vamos a estimar varios modelos y que se guarde el AIC BIC\n",
        "ic = {}\n",
        "for ar in range(7):\n",
        "    for ma in range(7):\n",
        "        print(f\"AR: {ar}, MA: {ma}\")\n",
        "        modelo = ARIMA(igae['igae_diferenciado'].dropna(), order=(ar, 1, ma))\n",
        "        resultado = modelo.fit()\n",
        "        ic[(ar, ma)] = [resultado.aic, resultado.bic]\n",
        " \n",
        "ic = pd.DataFrame(ic, index=[\"AIC\", \"BIC\"]).T\n",
        "ic.index = ic.index.set_names([\"AR\", \"MA\"])"
      ]
    },
    {
      "cell_type": "code",
      "execution_count": null,
      "id": "777fd1ce",
      "metadata": {
        "scrolled": true,
        "id": "777fd1ce",
        "outputId": "c426758b-9750-407e-ddf7-32667e30eb1f"
      },
      "outputs": [
        {
          "data": {
            "text/html": [
              "<div>\n",
              "<style scoped>\n",
              "    .dataframe tbody tr th:only-of-type {\n",
              "        vertical-align: middle;\n",
              "    }\n",
              "\n",
              "    .dataframe tbody tr th {\n",
              "        vertical-align: top;\n",
              "    }\n",
              "\n",
              "    .dataframe thead th {\n",
              "        text-align: right;\n",
              "    }\n",
              "</style>\n",
              "<table border=\"1\" class=\"dataframe\">\n",
              "  <thead>\n",
              "    <tr style=\"text-align: right;\">\n",
              "      <th></th>\n",
              "      <th></th>\n",
              "      <th>AIC</th>\n",
              "      <th>BIC</th>\n",
              "    </tr>\n",
              "    <tr>\n",
              "      <th>AR</th>\n",
              "      <th>MA</th>\n",
              "      <th></th>\n",
              "      <th></th>\n",
              "    </tr>\n",
              "  </thead>\n",
              "  <tbody>\n",
              "    <tr>\n",
              "      <th rowspan=\"7\" valign=\"top\">0</th>\n",
              "      <th>0</th>\n",
              "      <td>1118.837789</td>\n",
              "      <td>1122.458190</td>\n",
              "    </tr>\n",
              "    <tr>\n",
              "      <th>1</th>\n",
              "      <td>1004.998508</td>\n",
              "      <td>1012.239310</td>\n",
              "    </tr>\n",
              "    <tr>\n",
              "      <th>2</th>\n",
              "      <td>985.963567</td>\n",
              "      <td>996.824769</td>\n",
              "    </tr>\n",
              "    <tr>\n",
              "      <th>3</th>\n",
              "      <td>986.037679</td>\n",
              "      <td>1000.519282</td>\n",
              "    </tr>\n",
              "    <tr>\n",
              "      <th>4</th>\n",
              "      <td>976.999186</td>\n",
              "      <td>995.101191</td>\n",
              "    </tr>\n",
              "    <tr>\n",
              "      <th>5</th>\n",
              "      <td>977.683453</td>\n",
              "      <td>999.405858</td>\n",
              "    </tr>\n",
              "    <tr>\n",
              "      <th>6</th>\n",
              "      <td>977.307035</td>\n",
              "      <td>1002.649841</td>\n",
              "    </tr>\n",
              "    <tr>\n",
              "      <th rowspan=\"7\" valign=\"top\">1</th>\n",
              "      <th>0</th>\n",
              "      <td>1103.568042</td>\n",
              "      <td>1110.808844</td>\n",
              "    </tr>\n",
              "    <tr>\n",
              "      <th>1</th>\n",
              "      <td>992.424413</td>\n",
              "      <td>1003.285615</td>\n",
              "    </tr>\n",
              "    <tr>\n",
              "      <th>2</th>\n",
              "      <td>987.216392</td>\n",
              "      <td>1001.697995</td>\n",
              "    </tr>\n",
              "    <tr>\n",
              "      <th>3</th>\n",
              "      <td>988.354607</td>\n",
              "      <td>1006.456611</td>\n",
              "    </tr>\n",
              "    <tr>\n",
              "      <th>4</th>\n",
              "      <td>975.908258</td>\n",
              "      <td>997.630663</td>\n",
              "    </tr>\n",
              "    <tr>\n",
              "      <th>5</th>\n",
              "      <td>980.479540</td>\n",
              "      <td>1005.822346</td>\n",
              "    </tr>\n",
              "    <tr>\n",
              "      <th>6</th>\n",
              "      <td>979.606923</td>\n",
              "      <td>1008.570130</td>\n",
              "    </tr>\n",
              "    <tr>\n",
              "      <th rowspan=\"7\" valign=\"top\">2</th>\n",
              "      <th>0</th>\n",
              "      <td>1075.306385</td>\n",
              "      <td>1086.167588</td>\n",
              "    </tr>\n",
              "    <tr>\n",
              "      <th>1</th>\n",
              "      <td>979.727913</td>\n",
              "      <td>994.209516</td>\n",
              "    </tr>\n",
              "    <tr>\n",
              "      <th>2</th>\n",
              "      <td>975.786426</td>\n",
              "      <td>993.888430</td>\n",
              "    </tr>\n",
              "    <tr>\n",
              "      <th>3</th>\n",
              "      <td>987.161030</td>\n",
              "      <td>1008.883435</td>\n",
              "    </tr>\n",
              "    <tr>\n",
              "      <th>4</th>\n",
              "      <td>980.158443</td>\n",
              "      <td>1005.501249</td>\n",
              "    </tr>\n",
              "    <tr>\n",
              "      <th>5</th>\n",
              "      <td>990.855096</td>\n",
              "      <td>1019.818303</td>\n",
              "    </tr>\n",
              "    <tr>\n",
              "      <th>6</th>\n",
              "      <td>978.872573</td>\n",
              "      <td>1011.456181</td>\n",
              "    </tr>\n",
              "    <tr>\n",
              "      <th rowspan=\"7\" valign=\"top\">3</th>\n",
              "      <th>0</th>\n",
              "      <td>1053.545410</td>\n",
              "      <td>1068.027013</td>\n",
              "    </tr>\n",
              "    <tr>\n",
              "      <th>1</th>\n",
              "      <td>979.293863</td>\n",
              "      <td>997.395868</td>\n",
              "    </tr>\n",
              "    <tr>\n",
              "      <th>2</th>\n",
              "      <td>980.956786</td>\n",
              "      <td>1002.679191</td>\n",
              "    </tr>\n",
              "    <tr>\n",
              "      <th>3</th>\n",
              "      <td>979.773693</td>\n",
              "      <td>1005.116499</td>\n",
              "    </tr>\n",
              "    <tr>\n",
              "      <th>4</th>\n",
              "      <td>978.384603</td>\n",
              "      <td>1007.347810</td>\n",
              "    </tr>\n",
              "    <tr>\n",
              "      <th>5</th>\n",
              "      <td>980.417562</td>\n",
              "      <td>1013.001170</td>\n",
              "    </tr>\n",
              "    <tr>\n",
              "      <th>6</th>\n",
              "      <td>989.178859</td>\n",
              "      <td>1025.382867</td>\n",
              "    </tr>\n",
              "    <tr>\n",
              "      <th rowspan=\"7\" valign=\"top\">4</th>\n",
              "      <th>0</th>\n",
              "      <td>1046.031856</td>\n",
              "      <td>1064.133861</td>\n",
              "    </tr>\n",
              "    <tr>\n",
              "      <th>1</th>\n",
              "      <td>980.871233</td>\n",
              "      <td>1002.593638</td>\n",
              "    </tr>\n",
              "    <tr>\n",
              "      <th>2</th>\n",
              "      <td>982.185535</td>\n",
              "      <td>1007.528341</td>\n",
              "    </tr>\n",
              "    <tr>\n",
              "      <th>3</th>\n",
              "      <td>986.027949</td>\n",
              "      <td>1014.991156</td>\n",
              "    </tr>\n",
              "    <tr>\n",
              "      <th>4</th>\n",
              "      <td>981.770556</td>\n",
              "      <td>1014.354164</td>\n",
              "    </tr>\n",
              "    <tr>\n",
              "      <th>5</th>\n",
              "      <td>981.496552</td>\n",
              "      <td>1017.700561</td>\n",
              "    </tr>\n",
              "    <tr>\n",
              "      <th>6</th>\n",
              "      <td>984.053540</td>\n",
              "      <td>1023.877950</td>\n",
              "    </tr>\n",
              "    <tr>\n",
              "      <th rowspan=\"7\" valign=\"top\">5</th>\n",
              "      <th>0</th>\n",
              "      <td>1035.994766</td>\n",
              "      <td>1057.717171</td>\n",
              "    </tr>\n",
              "    <tr>\n",
              "      <th>1</th>\n",
              "      <td>980.491824</td>\n",
              "      <td>1005.834630</td>\n",
              "    </tr>\n",
              "    <tr>\n",
              "      <th>2</th>\n",
              "      <td>982.420550</td>\n",
              "      <td>1011.383757</td>\n",
              "    </tr>\n",
              "    <tr>\n",
              "      <th>3</th>\n",
              "      <td>981.358475</td>\n",
              "      <td>1013.942083</td>\n",
              "    </tr>\n",
              "    <tr>\n",
              "      <th>4</th>\n",
              "      <td>984.026984</td>\n",
              "      <td>1020.230992</td>\n",
              "    </tr>\n",
              "    <tr>\n",
              "      <th>5</th>\n",
              "      <td>986.657424</td>\n",
              "      <td>1026.481833</td>\n",
              "    </tr>\n",
              "    <tr>\n",
              "      <th>6</th>\n",
              "      <td>986.883795</td>\n",
              "      <td>1030.328605</td>\n",
              "    </tr>\n",
              "    <tr>\n",
              "      <th rowspan=\"7\" valign=\"top\">6</th>\n",
              "      <th>0</th>\n",
              "      <td>1034.850760</td>\n",
              "      <td>1060.193566</td>\n",
              "    </tr>\n",
              "    <tr>\n",
              "      <th>1</th>\n",
              "      <td>982.148264</td>\n",
              "      <td>1011.111471</td>\n",
              "    </tr>\n",
              "    <tr>\n",
              "      <th>2</th>\n",
              "      <td>983.658435</td>\n",
              "      <td>1016.242042</td>\n",
              "    </tr>\n",
              "    <tr>\n",
              "      <th>3</th>\n",
              "      <td>986.822872</td>\n",
              "      <td>1023.026880</td>\n",
              "    </tr>\n",
              "    <tr>\n",
              "      <th>4</th>\n",
              "      <td>985.883157</td>\n",
              "      <td>1025.707566</td>\n",
              "    </tr>\n",
              "    <tr>\n",
              "      <th>5</th>\n",
              "      <td>986.129414</td>\n",
              "      <td>1029.574224</td>\n",
              "    </tr>\n",
              "    <tr>\n",
              "      <th>6</th>\n",
              "      <td>987.844134</td>\n",
              "      <td>1034.909346</td>\n",
              "    </tr>\n",
              "  </tbody>\n",
              "</table>\n",
              "</div>"
            ],
            "text/plain": [
              "               AIC          BIC\n",
              "AR MA                          \n",
              "0  0   1118.837789  1122.458190\n",
              "   1   1004.998508  1012.239310\n",
              "   2    985.963567   996.824769\n",
              "   3    986.037679  1000.519282\n",
              "   4    976.999186   995.101191\n",
              "   5    977.683453   999.405858\n",
              "   6    977.307035  1002.649841\n",
              "1  0   1103.568042  1110.808844\n",
              "   1    992.424413  1003.285615\n",
              "   2    987.216392  1001.697995\n",
              "   3    988.354607  1006.456611\n",
              "   4    975.908258   997.630663\n",
              "   5    980.479540  1005.822346\n",
              "   6    979.606923  1008.570130\n",
              "2  0   1075.306385  1086.167588\n",
              "   1    979.727913   994.209516\n",
              "   2    975.786426   993.888430\n",
              "   3    987.161030  1008.883435\n",
              "   4    980.158443  1005.501249\n",
              "   5    990.855096  1019.818303\n",
              "   6    978.872573  1011.456181\n",
              "3  0   1053.545410  1068.027013\n",
              "   1    979.293863   997.395868\n",
              "   2    980.956786  1002.679191\n",
              "   3    979.773693  1005.116499\n",
              "   4    978.384603  1007.347810\n",
              "   5    980.417562  1013.001170\n",
              "   6    989.178859  1025.382867\n",
              "4  0   1046.031856  1064.133861\n",
              "   1    980.871233  1002.593638\n",
              "   2    982.185535  1007.528341\n",
              "   3    986.027949  1014.991156\n",
              "   4    981.770556  1014.354164\n",
              "   5    981.496552  1017.700561\n",
              "   6    984.053540  1023.877950\n",
              "5  0   1035.994766  1057.717171\n",
              "   1    980.491824  1005.834630\n",
              "   2    982.420550  1011.383757\n",
              "   3    981.358475  1013.942083\n",
              "   4    984.026984  1020.230992\n",
              "   5    986.657424  1026.481833\n",
              "   6    986.883795  1030.328605\n",
              "6  0   1034.850760  1060.193566\n",
              "   1    982.148264  1011.111471\n",
              "   2    983.658435  1016.242042\n",
              "   3    986.822872  1023.026880\n",
              "   4    985.883157  1025.707566\n",
              "   5    986.129414  1029.574224\n",
              "   6    987.844134  1034.909346"
            ]
          },
          "execution_count": 27,
          "metadata": {},
          "output_type": "execute_result"
        }
      ],
      "source": [
        "ic"
      ]
    },
    {
      "cell_type": "code",
      "execution_count": null,
      "id": "43ff4988",
      "metadata": {
        "id": "43ff4988",
        "outputId": "2e29df5f-8df5-492a-cf30-5f95bf962de6"
      },
      "outputs": [
        {
          "data": {
            "text/html": [
              "<div>\n",
              "<style scoped>\n",
              "    .dataframe tbody tr th:only-of-type {\n",
              "        vertical-align: middle;\n",
              "    }\n",
              "\n",
              "    .dataframe tbody tr th {\n",
              "        vertical-align: top;\n",
              "    }\n",
              "\n",
              "    .dataframe thead th {\n",
              "        text-align: right;\n",
              "    }\n",
              "</style>\n",
              "<table border=\"1\" class=\"dataframe\">\n",
              "  <thead>\n",
              "    <tr style=\"text-align: right;\">\n",
              "      <th></th>\n",
              "      <th></th>\n",
              "      <th>AIC</th>\n",
              "      <th>BIC</th>\n",
              "    </tr>\n",
              "    <tr>\n",
              "      <th>AR</th>\n",
              "      <th>MA</th>\n",
              "      <th></th>\n",
              "      <th></th>\n",
              "    </tr>\n",
              "  </thead>\n",
              "  <tbody>\n",
              "    <tr>\n",
              "      <th>2</th>\n",
              "      <th>2</th>\n",
              "      <td>975.786426</td>\n",
              "      <td>993.888430</td>\n",
              "    </tr>\n",
              "    <tr>\n",
              "      <th>1</th>\n",
              "      <th>4</th>\n",
              "      <td>975.908258</td>\n",
              "      <td>997.630663</td>\n",
              "    </tr>\n",
              "    <tr>\n",
              "      <th rowspan=\"3\" valign=\"top\">0</th>\n",
              "      <th>4</th>\n",
              "      <td>976.999186</td>\n",
              "      <td>995.101191</td>\n",
              "    </tr>\n",
              "    <tr>\n",
              "      <th>6</th>\n",
              "      <td>977.307035</td>\n",
              "      <td>1002.649841</td>\n",
              "    </tr>\n",
              "    <tr>\n",
              "      <th>5</th>\n",
              "      <td>977.683453</td>\n",
              "      <td>999.405858</td>\n",
              "    </tr>\n",
              "  </tbody>\n",
              "</table>\n",
              "</div>"
            ],
            "text/plain": [
              "              AIC          BIC\n",
              "AR MA                         \n",
              "2  2   975.786426   993.888430\n",
              "1  4   975.908258   997.630663\n",
              "0  4   976.999186   995.101191\n",
              "   6   977.307035  1002.649841\n",
              "   5   977.683453   999.405858"
            ]
          },
          "execution_count": 28,
          "metadata": {},
          "output_type": "execute_result"
        }
      ],
      "source": [
        "ic.sort_values('AIC', ascending=True)[0:5]"
      ]
    },
    {
      "cell_type": "markdown",
      "id": "9baf5b24",
      "metadata": {
        "id": "9baf5b24"
      },
      "source": [
        "Según el criterio de Akaike el IGAE diferenciado es un ARMA(2,2)"
      ]
    },
    {
      "cell_type": "markdown",
      "id": "f4edb8a1",
      "metadata": {
        "id": "f4edb8a1"
      },
      "source": [
        "Significa que el IGAE es un modelo ARIMA(2, 1, 2)"
      ]
    },
    {
      "cell_type": "code",
      "execution_count": null,
      "id": "66c7ebc0",
      "metadata": {
        "id": "66c7ebc0",
        "outputId": "d5926093-baf5-4ff8-bf55-6edf4f356105"
      },
      "outputs": [
        {
          "data": {
            "text/html": [
              "<div>\n",
              "<style scoped>\n",
              "    .dataframe tbody tr th:only-of-type {\n",
              "        vertical-align: middle;\n",
              "    }\n",
              "\n",
              "    .dataframe tbody tr th {\n",
              "        vertical-align: top;\n",
              "    }\n",
              "\n",
              "    .dataframe thead th {\n",
              "        text-align: right;\n",
              "    }\n",
              "</style>\n",
              "<table border=\"1\" class=\"dataframe\">\n",
              "  <thead>\n",
              "    <tr style=\"text-align: right;\">\n",
              "      <th></th>\n",
              "      <th></th>\n",
              "      <th>AIC</th>\n",
              "      <th>BIC</th>\n",
              "    </tr>\n",
              "    <tr>\n",
              "      <th>AR</th>\n",
              "      <th>MA</th>\n",
              "      <th></th>\n",
              "      <th></th>\n",
              "    </tr>\n",
              "  </thead>\n",
              "  <tbody>\n",
              "    <tr>\n",
              "      <th rowspan=\"2\" valign=\"top\">2</th>\n",
              "      <th>2</th>\n",
              "      <td>975.786426</td>\n",
              "      <td>993.888430</td>\n",
              "    </tr>\n",
              "    <tr>\n",
              "      <th>1</th>\n",
              "      <td>979.727913</td>\n",
              "      <td>994.209516</td>\n",
              "    </tr>\n",
              "    <tr>\n",
              "      <th rowspan=\"2\" valign=\"top\">0</th>\n",
              "      <th>4</th>\n",
              "      <td>976.999186</td>\n",
              "      <td>995.101191</td>\n",
              "    </tr>\n",
              "    <tr>\n",
              "      <th>2</th>\n",
              "      <td>985.963567</td>\n",
              "      <td>996.824769</td>\n",
              "    </tr>\n",
              "    <tr>\n",
              "      <th>3</th>\n",
              "      <th>1</th>\n",
              "      <td>979.293863</td>\n",
              "      <td>997.395868</td>\n",
              "    </tr>\n",
              "  </tbody>\n",
              "</table>\n",
              "</div>"
            ],
            "text/plain": [
              "              AIC         BIC\n",
              "AR MA                        \n",
              "2  2   975.786426  993.888430\n",
              "   1   979.727913  994.209516\n",
              "0  4   976.999186  995.101191\n",
              "   2   985.963567  996.824769\n",
              "3  1   979.293863  997.395868"
            ]
          },
          "execution_count": 29,
          "metadata": {},
          "output_type": "execute_result"
        }
      ],
      "source": [
        "ic.sort_values('BIC', ascending=True)[0:5]"
      ]
    },
    {
      "cell_type": "markdown",
      "id": "52d23fc7",
      "metadata": {
        "id": "52d23fc7"
      },
      "source": [
        "Según el criterio de Bayesiano el IGAE diferenciado es un ARMA(2,2)"
      ]
    },
    {
      "cell_type": "code",
      "execution_count": null,
      "id": "695c7385",
      "metadata": {
        "id": "695c7385",
        "outputId": "4c9748ec-d931-4110-b7eb-6cd26e7659fe"
      },
      "outputs": [
        {
          "name": "stdout",
          "output_type": "stream",
          "text": [
            "                               SARIMAX Results                                \n",
            "==============================================================================\n",
            "Dep. Variable:                   IGAE   No. Observations:                  278\n",
            "Model:                 ARIMA(2, 1, 2)   Log Likelihood                -482.713\n",
            "Date:                Wed, 03 May 2023   AIC                            975.425\n",
            "Time:                        16:18:49   BIC                            993.545\n",
            "Sample:                    01-01-2000   HQIC                           982.696\n",
            "                         - 02-01-2023                                         \n",
            "Covariance Type:                  opg                                         \n",
            "==============================================================================\n",
            "                 coef    std err          z      P>|z|      [0.025      0.975]\n",
            "------------------------------------------------------------------------------\n",
            "ar.L1          0.8014      0.230      3.489      0.000       0.351       1.252\n",
            "ar.L2         -0.2151      0.236     -0.912      0.362      -0.678       0.247\n",
            "ma.L1         -0.5587      0.230     -2.425      0.015      -1.010      -0.107\n",
            "ma.L2         -0.1399      0.199     -0.702      0.483      -0.531       0.251\n",
            "sigma2         1.9089      0.038     50.240      0.000       1.834       1.983\n",
            "===================================================================================\n",
            "Ljung-Box (L1) (Q):                   0.05   Jarque-Bera (JB):            207220.54\n",
            "Prob(Q):                              0.82   Prob(JB):                         0.00\n",
            "Heteroskedasticity (H):              18.02   Skew:                            -9.57\n",
            "Prob(H) (two-sided):                  0.00   Kurtosis:                       135.62\n",
            "===================================================================================\n",
            "\n",
            "Warnings:\n",
            "[1] Covariance matrix calculated using the outer product of gradients (complex-step).\n"
          ]
        }
      ],
      "source": [
        "# Para el IGAE vamos a estimar un ARIMA (2, 1, 2)\n",
        "modelo3 = ARIMA(igae['IGAE'], order=(2,1,2))\n",
        "resultado3 = modelo3.fit()\n",
        "print(resultado3.summary())"
      ]
    },
    {
      "cell_type": "code",
      "execution_count": null,
      "id": "b6f4fa88",
      "metadata": {
        "id": "b6f4fa88",
        "outputId": "bcf12b89-3360-46d7-e483-3fd7cc086e2b"
      },
      "outputs": [
        {
          "data": {
            "text/plain": [
              "<AxesSubplot:xlabel='Periodos'>"
            ]
          },
          "execution_count": 33,
          "metadata": {},
          "output_type": "execute_result"
        },
        {
          "data": {
            "image/png": "[encoded data removed]",
            "text/plain": [
              "<Figure size 432x288 with 1 Axes>"
            ]
          },
          "metadata": {
            "needs_background": "light"
          },
          "output_type": "display_data"
        }
      ],
      "source": [
        "# Librería para la gráfica del pronóstico\n",
        "from statsmodels.graphics.tsaplots import plot_predict\n",
        "\n",
        "## Gráfica\n",
        "plot_predict(resultado3, start='2023-03-01', end='2023-12-01');\n",
        "igae['IGAE'].plot()"
      ]
    },
    {
      "cell_type": "code",
      "execution_count": null,
      "id": "58319178",
      "metadata": {
        "id": "58319178",
        "outputId": "730d0a8a-b39f-47fa-90d1-76f7b1d6d447"
      },
      "outputs": [
        {
          "data": {
            "text/plain": [
              "2023-03-01    113.940583\n",
              "2023-04-01    113.718561\n",
              "2023-05-01    113.584649\n",
              "2023-06-01    113.525095\n",
              "2023-07-01    113.506177\n",
              "2023-08-01    113.503829\n",
              "2023-09-01    113.506017\n",
              "2023-10-01    113.508276\n",
              "2023-11-01    113.509615\n",
              "2023-12-01    113.510203\n",
              "2024-01-01    113.510385\n",
              "2024-02-01    113.510405\n",
              "2024-03-01    113.510382\n",
              "2024-04-01    113.510359\n",
              "2024-05-01    113.510346\n",
              "2024-06-01    113.510340\n",
              "2024-07-01    113.510338\n",
              "2024-08-01    113.510338\n",
              "2024-09-01    113.510338\n",
              "2024-10-01    113.510339\n",
              "Freq: MS, Name: predicted_mean, dtype: float64"
            ]
          },
          "execution_count": 35,
          "metadata": {},
          "output_type": "execute_result"
        }
      ],
      "source": [
        "resultado3.predict('2023-03-01', '2024-10-01')"
      ]
    }
  ],
  "metadata": {
    "kernelspec": {
      "display_name": "Python 3 (ipykernel)",
      "language": "python",
      "name": "python3"
    },
    "language_info": {
      "codemirror_mode": {
        "name": "ipython",
        "version": 3
      },
      "file_extension": ".py",
      "mimetype": "text/x-python",
      "name": "python",
      "nbconvert_exporter": "python",
      "pygments_lexer": "ipython3",
      "version": "3.9.12"
    },
    "colab": {
      "provenance": []
    }
  },
  "nbformat": 4,
  "nbformat_minor": 5
}